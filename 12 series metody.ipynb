{
 "cells": [
  {
   "cell_type": "code",
   "execution_count": 1,
   "id": "6e4857bf-eec8-404e-8861-c4af58e44b6a",
   "metadata": {},
   "outputs": [],
   "source": [
    "import pandas as pd"
   ]
  },
  {
   "cell_type": "markdown",
   "id": "9346e63e-98e8-4af1-85de-4b67eaba13f1",
   "metadata": {},
   "source": [
    "## vytvoření Series"
   ]
  },
  {
   "cell_type": "code",
   "execution_count": 2,
   "id": "0831ea9d-0572-481e-9119-c7a0336fe915",
   "metadata": {},
   "outputs": [],
   "source": [
    "prices = [1, 2, 3]"
   ]
  },
  {
   "cell_type": "code",
   "execution_count": 3,
   "id": "3f155824-25c8-4a3b-8476-5b65c6c15ccb",
   "metadata": {},
   "outputs": [
    {
     "data": {
      "text/plain": [
       "0    1\n",
       "1    2\n",
       "2    3\n",
       "dtype: int64"
      ]
     },
     "execution_count": 3,
     "metadata": {},
     "output_type": "execute_result"
    }
   ],
   "source": [
    "prices_s = pd.Series(prices)\n",
    "prices_s"
   ]
  },
  {
   "cell_type": "markdown",
   "id": "26f9d3e8-3605-440f-b58d-7f0bf77d91b7",
   "metadata": {},
   "source": [
    "## Metody na číslech"
   ]
  },
  {
   "cell_type": "code",
   "execution_count": 4,
   "id": "0a8ffbc9-2f2d-42bc-99e4-58ed0609c30f",
   "metadata": {},
   "outputs": [
    {
     "data": {
      "text/plain": [
       "6"
      ]
     },
     "execution_count": 4,
     "metadata": {},
     "output_type": "execute_result"
    }
   ],
   "source": [
    "prices_s.sum()"
   ]
  },
  {
   "cell_type": "code",
   "execution_count": 5,
   "id": "676d95a9-6e99-47f4-852e-b74769d87fef",
   "metadata": {},
   "outputs": [
    {
     "data": {
      "text/plain": [
       "2.0"
      ]
     },
     "execution_count": 5,
     "metadata": {},
     "output_type": "execute_result"
    }
   ],
   "source": [
    "prices_s.mean()"
   ]
  },
  {
   "cell_type": "code",
   "execution_count": 6,
   "id": "f332c8c3-23bc-4e84-8d96-05a3e3a7489c",
   "metadata": {},
   "outputs": [
    {
     "data": {
      "text/plain": [
       "6"
      ]
     },
     "execution_count": 6,
     "metadata": {},
     "output_type": "execute_result"
    }
   ],
   "source": [
    "prices_s.product()"
   ]
  },
  {
   "cell_type": "code",
   "execution_count": 7,
   "id": "d53bcdd5-e1dc-4772-9baf-a22ff5474dd5",
   "metadata": {},
   "outputs": [
    {
     "data": {
      "text/plain": [
       "1.0"
      ]
     },
     "execution_count": 7,
     "metadata": {},
     "output_type": "execute_result"
    }
   ],
   "source": [
    "prices_s.std()"
   ]
  },
  {
   "cell_type": "markdown",
   "id": "812a6198-c574-4a8e-ab0c-a3cd864d712b",
   "metadata": {},
   "source": [
    "## Metody na stringu"
   ]
  },
  {
   "cell_type": "code",
   "execution_count": 8,
   "id": "ce142aae-868f-4c19-aa5b-32a4b8ae39db",
   "metadata": {},
   "outputs": [],
   "source": [
    "instrument_list = ['Klavír', 'Kytara', 'bicí', 'trubka', 'flétna']"
   ]
  },
  {
   "cell_type": "code",
   "execution_count": 9,
   "id": "8236a578-9cd4-43b1-bbe1-bdd2584d3632",
   "metadata": {},
   "outputs": [
    {
     "data": {
      "text/plain": [
       "0    Klavír\n",
       "1    Kytara\n",
       "2      bicí\n",
       "3    trubka\n",
       "4    flétna\n",
       "dtype: object"
      ]
     },
     "execution_count": 9,
     "metadata": {},
     "output_type": "execute_result"
    }
   ],
   "source": [
    "instrument_list_s = pd.Series(instrument_list)\n",
    "instrument_list_s"
   ]
  },
  {
   "cell_type": "code",
   "execution_count": 10,
   "id": "34cd78bb-13fa-4fa0-8adf-af67274a07f6",
   "metadata": {},
   "outputs": [
    {
     "data": {
      "text/plain": [
       "0    klavír\n",
       "1    kytara\n",
       "2      bicí\n",
       "3    trubka\n",
       "4    flétna\n",
       "dtype: object"
      ]
     },
     "execution_count": 10,
     "metadata": {},
     "output_type": "execute_result"
    }
   ],
   "source": [
    "instrument_list_s.str.lower()"
   ]
  },
  {
   "cell_type": "code",
   "execution_count": 11,
   "id": "2dbc90bd-bb49-4ea3-bee1-f5fc235ab4b4",
   "metadata": {},
   "outputs": [
    {
     "data": {
      "text/plain": [
       "0    KLAVÍR\n",
       "1    KYTARA\n",
       "2      BICÍ\n",
       "3    TRUBKA\n",
       "4    FLÉTNA\n",
       "dtype: object"
      ]
     },
     "execution_count": 11,
     "metadata": {},
     "output_type": "execute_result"
    }
   ],
   "source": [
    "instrument_list_s.str.upper()"
   ]
  },
  {
   "cell_type": "code",
   "execution_count": 12,
   "id": "a9725acc-ffed-4dd3-a1e7-70b797eb9fe9",
   "metadata": {},
   "outputs": [
    {
     "data": {
      "text/plain": [
       "0     True\n",
       "1     True\n",
       "2    False\n",
       "3     True\n",
       "4     True\n",
       "dtype: bool"
      ]
     },
     "execution_count": 12,
     "metadata": {},
     "output_type": "execute_result"
    }
   ],
   "source": [
    "instrument_list_s.str.contains(\"a\")"
   ]
  },
  {
   "cell_type": "code",
   "execution_count": 13,
   "id": "463fc693-0ad7-4992-a4ce-d6d96db0446b",
   "metadata": {},
   "outputs": [
    {
     "data": {
      "text/plain": [
       "0    1\n",
       "1    2\n",
       "2    0\n",
       "3    1\n",
       "4    1\n",
       "dtype: int64"
      ]
     },
     "execution_count": 13,
     "metadata": {},
     "output_type": "execute_result"
    }
   ],
   "source": [
    "instrument_list_s.str.count(\"a\")"
   ]
  },
  {
   "cell_type": "code",
   "execution_count": 14,
   "id": "986cb977-1ff7-4247-abb9-67ca8f6d3dfa",
   "metadata": {},
   "outputs": [
    {
     "data": {
      "text/plain": [
       "'Klavír, Kytara, bicí, trubka, flétna'"
      ]
     },
     "execution_count": 14,
     "metadata": {},
     "output_type": "execute_result"
    }
   ],
   "source": [
    "instrument_list_s.str.cat(sep=\", \")"
   ]
  },
  {
   "cell_type": "code",
   "execution_count": null,
   "id": "a3b8b6ab-cb2f-400b-bfca-0c8d89643f06",
   "metadata": {},
   "outputs": [],
   "source": []
  }
 ],
 "metadata": {
  "kernelspec": {
   "display_name": "Python 3 (ipykernel)",
   "language": "python",
   "name": "python3"
  },
  "language_info": {
   "codemirror_mode": {
    "name": "ipython",
    "version": 3
   },
   "file_extension": ".py",
   "mimetype": "text/x-python",
   "name": "python",
   "nbconvert_exporter": "python",
   "pygments_lexer": "ipython3",
   "version": "3.12.5"
  }
 },
 "nbformat": 4,
 "nbformat_minor": 5
}
