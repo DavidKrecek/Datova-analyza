{
 "cells": [
  {
   "cell_type": "markdown",
   "id": "1d532304",
   "metadata": {},
   "source": []
  },
  {
   "cell_type": "markdown",
   "id": "29480e12-8e16-4ba6-a07a-2758487fc356",
   "metadata": {},
   "source": [
    "## Zadání k procvičování"
   ]
  },
  {
   "cell_type": "raw",
   "id": "431d0bad-d5c8-47c1-9da2-982fa095bdb7",
   "metadata": {},
   "source": [
    "Zde je pole čísel, které představují množství vydaných Kč z bankomatu číslo 3. \n",
    "bank_machine_003 = [1000, 2000, 1500, 2000, 8000, 10000, 2500]\n",
    "Vypočítej sumu vydaných peněz a průměrnou vydanou částku (průměr).\n",
    "Chceme zjistit počet vydaných částek.\n",
    "Zde jsou datumy, kdy k výběrům došlo: bank_machine_003_dates = ['1.1', '3.1', '3.1', '4.1', '6.1', '9.1', '10.1']\n",
    "Vytvoř series, kde datumy budou představovat indexy (labely) a výběry budou hodnoty (data). "
   ]
  },
  {
   "cell_type": "raw",
   "id": "944d7a76",
   "metadata": {},
   "source": []
  },
  {
   "cell_type": "markdown",
   "id": "6a26aec2-cec0-4f9b-b429-1dd04a65c37d",
   "metadata": {},
   "source": [
    "## Řešení"
   ]
  },
  {
   "cell_type": "markdown",
   "id": "f3e04476",
   "metadata": {},
   "source": []
  },
  {
   "cell_type": "markdown",
   "id": "e3b9606a",
   "metadata": {},
   "source": []
  },
  {
   "cell_type": "code",
   "execution_count": 11,
   "id": "9f911edb-bd2d-481e-9dc2-63ed1c10b404",
   "metadata": {},
   "outputs": [],
   "source": [
    "import pandas as pd"
   ]
  },
  {
   "cell_type": "code",
   "execution_count": 12,
   "id": "788b8852-5666-463e-a7ea-f46d118e3104",
   "metadata": {},
   "outputs": [],
   "source": [
    "bank_machine_003 = [1000, 2000, 1500, 2000, 8000, 10000, 2500]"
   ]
  },
  {
   "cell_type": "code",
   "execution_count": 13,
   "id": "0ae404d6-8859-4c5a-ae0b-ff0e492522b6",
   "metadata": {},
   "outputs": [
    {
     "data": {
      "text/plain": [
       "0     1000\n",
       "1     2000\n",
       "2     1500\n",
       "3     2000\n",
       "4     8000\n",
       "5    10000\n",
       "6     2500\n",
       "dtype: int64"
      ]
     },
     "execution_count": 13,
     "metadata": {},
     "output_type": "execute_result"
    }
   ],
   "source": [
    "bank_machine_003_series = pd.Series(bank_machine_003)\n",
    "bank_machine_003_series"
   ]
  },
  {
   "cell_type": "code",
   "execution_count": 14,
   "id": "1f9c6d25-bd33-48e5-82a6-ae0c1886d852",
   "metadata": {},
   "outputs": [
    {
     "data": {
      "text/plain": [
       "np.int64(27000)"
      ]
     },
     "execution_count": 14,
     "metadata": {},
     "output_type": "execute_result"
    }
   ],
   "source": [
    "bank_machine_003_series.sum()   #metoda"
   ]
  },
  {
   "cell_type": "code",
   "execution_count": 15,
   "id": "ac508776-33ab-42f0-8262-4d970f2dfd9b",
   "metadata": {},
   "outputs": [
    {
     "data": {
      "text/plain": [
       "np.float64(3857.1428571428573)"
      ]
     },
     "execution_count": 15,
     "metadata": {},
     "output_type": "execute_result"
    }
   ],
   "source": [
    "bank_machine_003_series.mean()   #metoda"
   ]
  },
  {
   "cell_type": "code",
   "execution_count": 16,
   "id": "303a50a6-5ac9-491c-be8b-760bd7764c45",
   "metadata": {},
   "outputs": [
    {
     "data": {
      "text/plain": [
       "7"
      ]
     },
     "execution_count": 16,
     "metadata": {},
     "output_type": "execute_result"
    }
   ],
   "source": [
    "bank_machine_003_series.size   # atribut"
   ]
  },
  {
   "cell_type": "code",
   "execution_count": 17,
   "id": "c0e357d2-5cda-49fd-8875-7196a7771773",
   "metadata": {},
   "outputs": [],
   "source": [
    "bank_machine_003_dates = ['1.1', '3.1', '3.1', '4.1', '6.1', '9.1', '10.1']"
   ]
  },
  {
   "cell_type": "markdown",
   "id": "47b51eed-7c08-47c8-ab8e-dc728aa02709",
   "metadata": {},
   "source": [
    "## první varianta, narvat to tam napřímo"
   ]
  },
  {
   "cell_type": "code",
   "execution_count": 18,
   "id": "d19c1393-9474-4180-9494-9357771de2c9",
   "metadata": {},
   "outputs": [
    {
     "data": {
      "text/plain": [
       "1.1      1000\n",
       "3.1      2000\n",
       "3.1      1500\n",
       "4.1      2000\n",
       "6.1      8000\n",
       "9.1     10000\n",
       "10.1     2500\n",
       "dtype: int64"
      ]
     },
     "execution_count": 18,
     "metadata": {},
     "output_type": "execute_result"
    }
   ],
   "source": [
    "bm003_table_s = pd.Series(data=[1000, 2000, 1500, 2000, 8000, 10000, 2500], index=['1.1', '3.1', '3.1', '4.1', '6.1', '9.1', '10.1'])\n",
    "bm003_table_s"
   ]
  },
  {
   "cell_type": "markdown",
   "id": "dffd1231-787a-468c-8704-2009e75a7589",
   "metadata": {},
   "source": [
    "## druhá asi i lepší varianta (první data, pak indexy!)"
   ]
  },
  {
   "cell_type": "code",
   "execution_count": 19,
   "id": "3f82ab15-651b-444e-902b-7d9c18b05a53",
   "metadata": {},
   "outputs": [
    {
     "data": {
      "text/plain": [
       "1.1      1000\n",
       "3.1      2000\n",
       "3.1      1500\n",
       "4.1      2000\n",
       "6.1      8000\n",
       "9.1     10000\n",
       "10.1     2500\n",
       "dtype: int64"
      ]
     },
     "execution_count": 19,
     "metadata": {},
     "output_type": "execute_result"
    }
   ],
   "source": [
    "bm004_table_s = pd.Series(bank_machine_003, bank_machine_003_dates)\n",
    "bm004_table_s"
   ]
  },
  {
   "cell_type": "code",
   "execution_count": null,
   "id": "05511634",
   "metadata": {},
   "outputs": [],
   "source": []
  }
 ],
 "metadata": {
  "kernelspec": {
   "display_name": "Python 3",
   "language": "python",
   "name": "python3"
  },
  "language_info": {
   "codemirror_mode": {
    "name": "ipython",
    "version": 3
   },
   "file_extension": ".py",
   "mimetype": "text/x-python",
   "name": "python",
   "nbconvert_exporter": "python",
   "pygments_lexer": "ipython3",
   "version": "3.12.5"
  }
 },
 "nbformat": 4,
 "nbformat_minor": 5
}
