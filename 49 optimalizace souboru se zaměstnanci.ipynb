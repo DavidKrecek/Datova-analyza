{
 "cells": [
  {
   "cell_type": "code",
   "execution_count": 1,
   "metadata": {},
   "outputs": [],
   "source": [
    "import pandas as pd"
   ]
  },
  {
   "cell_type": "code",
   "execution_count": 2,
   "metadata": {},
   "outputs": [
    {
     "data": {
      "text/html": [
       "<div>\n",
       "<style scoped>\n",
       "    .dataframe tbody tr th:only-of-type {\n",
       "        vertical-align: middle;\n",
       "    }\n",
       "\n",
       "    .dataframe tbody tr th {\n",
       "        vertical-align: top;\n",
       "    }\n",
       "\n",
       "    .dataframe thead th {\n",
       "        text-align: right;\n",
       "    }\n",
       "</style>\n",
       "<table border=\"1\" class=\"dataframe\">\n",
       "  <thead>\n",
       "    <tr style=\"text-align: right;\">\n",
       "      <th></th>\n",
       "      <th>id_employee</th>\n",
       "      <th>gender</th>\n",
       "      <th>start date</th>\n",
       "      <th>insurance</th>\n",
       "      <th>salary</th>\n",
       "      <th>rise_salary</th>\n",
       "      <th>department</th>\n",
       "    </tr>\n",
       "  </thead>\n",
       "  <tbody>\n",
       "    <tr>\n",
       "      <th>0</th>\n",
       "      <td>1</td>\n",
       "      <td>Male</td>\n",
       "      <td>11/26/2023</td>\n",
       "      <td>False</td>\n",
       "      <td>356619</td>\n",
       "      <td>6.9</td>\n",
       "      <td>Support</td>\n",
       "    </tr>\n",
       "    <tr>\n",
       "      <th>1</th>\n",
       "      <td>2</td>\n",
       "      <td>Female</td>\n",
       "      <td>1/27/2024</td>\n",
       "      <td>True</td>\n",
       "      <td>626147</td>\n",
       "      <td>13.0</td>\n",
       "      <td>Engineering</td>\n",
       "    </tr>\n",
       "    <tr>\n",
       "      <th>2</th>\n",
       "      <td>3</td>\n",
       "      <td>Female</td>\n",
       "      <td>3/30/2023</td>\n",
       "      <td>True</td>\n",
       "      <td>332593</td>\n",
       "      <td>6.3</td>\n",
       "      <td>Support</td>\n",
       "    </tr>\n",
       "    <tr>\n",
       "      <th>3</th>\n",
       "      <td>4</td>\n",
       "      <td>Male</td>\n",
       "      <td>1/8/2024</td>\n",
       "      <td>True</td>\n",
       "      <td>325067</td>\n",
       "      <td>9.9</td>\n",
       "      <td>Human Resources</td>\n",
       "    </tr>\n",
       "    <tr>\n",
       "      <th>4</th>\n",
       "      <td>5</td>\n",
       "      <td>Female</td>\n",
       "      <td>4/15/2024</td>\n",
       "      <td>False</td>\n",
       "      <td>667828</td>\n",
       "      <td>13.6</td>\n",
       "      <td>Product Management</td>\n",
       "    </tr>\n",
       "    <tr>\n",
       "      <th>...</th>\n",
       "      <td>...</td>\n",
       "      <td>...</td>\n",
       "      <td>...</td>\n",
       "      <td>...</td>\n",
       "      <td>...</td>\n",
       "      <td>...</td>\n",
       "      <td>...</td>\n",
       "    </tr>\n",
       "    <tr>\n",
       "      <th>995</th>\n",
       "      <td>996</td>\n",
       "      <td>Female</td>\n",
       "      <td>3/31/2023</td>\n",
       "      <td>False</td>\n",
       "      <td>377851</td>\n",
       "      <td>12.0</td>\n",
       "      <td>Human Resources</td>\n",
       "    </tr>\n",
       "    <tr>\n",
       "      <th>996</th>\n",
       "      <td>997</td>\n",
       "      <td>Female</td>\n",
       "      <td>1/5/2024</td>\n",
       "      <td>False</td>\n",
       "      <td>620298</td>\n",
       "      <td>12.8</td>\n",
       "      <td>Product Management</td>\n",
       "    </tr>\n",
       "    <tr>\n",
       "      <th>997</th>\n",
       "      <td>998</td>\n",
       "      <td>NaN</td>\n",
       "      <td>3/16/2024</td>\n",
       "      <td>False</td>\n",
       "      <td>361957</td>\n",
       "      <td>13.3</td>\n",
       "      <td>Engineering</td>\n",
       "    </tr>\n",
       "    <tr>\n",
       "      <th>998</th>\n",
       "      <td>999</td>\n",
       "      <td>Male</td>\n",
       "      <td>7/20/2023</td>\n",
       "      <td>False</td>\n",
       "      <td>466946</td>\n",
       "      <td>12.6</td>\n",
       "      <td>Sales</td>\n",
       "    </tr>\n",
       "    <tr>\n",
       "      <th>999</th>\n",
       "      <td>1000</td>\n",
       "      <td>Male</td>\n",
       "      <td>8/30/2023</td>\n",
       "      <td>True</td>\n",
       "      <td>499784</td>\n",
       "      <td>7.4</td>\n",
       "      <td>Sales</td>\n",
       "    </tr>\n",
       "  </tbody>\n",
       "</table>\n",
       "<p>1000 rows × 7 columns</p>\n",
       "</div>"
      ],
      "text/plain": [
       "     id_employee  gender  start date  insurance  salary  rise_salary  \\\n",
       "0              1    Male  11/26/2023      False  356619          6.9   \n",
       "1              2  Female   1/27/2024       True  626147         13.0   \n",
       "2              3  Female   3/30/2023       True  332593          6.3   \n",
       "3              4    Male    1/8/2024       True  325067          9.9   \n",
       "4              5  Female   4/15/2024      False  667828         13.6   \n",
       "..           ...     ...         ...        ...     ...          ...   \n",
       "995          996  Female   3/31/2023      False  377851         12.0   \n",
       "996          997  Female    1/5/2024      False  620298         12.8   \n",
       "997          998     NaN   3/16/2024      False  361957         13.3   \n",
       "998          999    Male   7/20/2023      False  466946         12.6   \n",
       "999         1000    Male   8/30/2023       True  499784          7.4   \n",
       "\n",
       "             department  \n",
       "0               Support  \n",
       "1           Engineering  \n",
       "2               Support  \n",
       "3       Human Resources  \n",
       "4    Product Management  \n",
       "..                  ...  \n",
       "995     Human Resources  \n",
       "996  Product Management  \n",
       "997         Engineering  \n",
       "998               Sales  \n",
       "999               Sales  \n",
       "\n",
       "[1000 rows x 7 columns]"
      ]
     },
     "execution_count": 2,
     "metadata": {},
     "output_type": "execute_result"
    }
   ],
   "source": [
    "employees = pd.read_csv(\"data/employees.csv\").dropna(how=\"all\")\n",
    "employees"
   ]
  },
  {
   "cell_type": "code",
   "execution_count": 3,
   "metadata": {},
   "outputs": [
    {
     "name": "stdout",
     "output_type": "stream",
     "text": [
      "<class 'pandas.core.frame.DataFrame'>\n",
      "RangeIndex: 1000 entries, 0 to 999\n",
      "Data columns (total 7 columns):\n",
      " #   Column       Non-Null Count  Dtype  \n",
      "---  ------       --------------  -----  \n",
      " 0   id_employee  1000 non-null   int64  \n",
      " 1   gender       930 non-null    object \n",
      " 2   start date   1000 non-null   object \n",
      " 3   insurance    1000 non-null   bool   \n",
      " 4   salary       1000 non-null   int64  \n",
      " 5   rise_salary  1000 non-null   float64\n",
      " 6   department   1000 non-null   object \n",
      "dtypes: bool(1), float64(1), int64(2), object(3)\n",
      "memory usage: 48.0+ KB\n"
     ]
    }
   ],
   "source": [
    "employees.info()"
   ]
  },
  {
   "cell_type": "markdown",
   "metadata": {},
   "source": [
    "? dá se něco převést na kategorie? (když jsou velká data rozdělená do málo kategorií) – gender na kategorie\n",
    "\n",
    "? dá se něco převést na časový údaj? – pro budoucí lepší pracování – na datový typ datum – start date\n",
    "\n",
    "? dá se něco převést na Bolean – zde už máme Insurance jako Bolean"
   ]
  },
  {
   "cell_type": "code",
   "execution_count": 7,
   "metadata": {},
   "outputs": [
    {
     "name": "stdout",
     "output_type": "stream",
     "text": [
      "<class 'pandas.core.frame.DataFrame'>\n",
      "RangeIndex: 1000 entries, 0 to 999\n",
      "Data columns (total 7 columns):\n",
      " #   Column       Non-Null Count  Dtype   \n",
      "---  ------       --------------  -----   \n",
      " 0   id_employee  1000 non-null   int64   \n",
      " 1   gender       930 non-null    category\n",
      " 2   start date   1000 non-null   object  \n",
      " 3   insurance    1000 non-null   bool    \n",
      " 4   salary       1000 non-null   int64   \n",
      " 5   rise_salary  1000 non-null   float64 \n",
      " 6   department   1000 non-null   object  \n",
      "dtypes: bool(1), category(1), float64(1), int64(2), object(2)\n",
      "memory usage: 41.5+ KB\n"
     ]
    }
   ],
   "source": [
    "employees.gender = employees.gender.astype(\"category\")\n",
    "employees.info()"
   ]
  },
  {
   "cell_type": "code",
   "execution_count": 14,
   "metadata": {},
   "outputs": [],
   "source": [
    "pd.to_datetime(employees[\"start date\"], format=\"%m/%d/%Y\")\n",
    "employees[\"start date\"] = pd.to_datetime(employees[\"start date\"], format=\"%m/%d/%Y\")"
   ]
  },
  {
   "cell_type": "code",
   "execution_count": 15,
   "metadata": {},
   "outputs": [
    {
     "name": "stdout",
     "output_type": "stream",
     "text": [
      "<class 'pandas.core.frame.DataFrame'>\n",
      "RangeIndex: 1000 entries, 0 to 999\n",
      "Data columns (total 7 columns):\n",
      " #   Column       Non-Null Count  Dtype         \n",
      "---  ------       --------------  -----         \n",
      " 0   id_employee  1000 non-null   int64         \n",
      " 1   gender       930 non-null    category      \n",
      " 2   start date   1000 non-null   datetime64[ns]\n",
      " 3   insurance    1000 non-null   bool          \n",
      " 4   salary       1000 non-null   int64         \n",
      " 5   rise_salary  1000 non-null   float64       \n",
      " 6   department   1000 non-null   object        \n",
      "dtypes: bool(1), category(1), datetime64[ns](1), float64(1), int64(2), object(1)\n",
      "memory usage: 41.5+ KB\n"
     ]
    }
   ],
   "source": [
    "employees.info()"
   ]
  },
  {
   "cell_type": "markdown",
   "metadata": {},
   "source": [
    "alternativní zápis převodu na datum"
   ]
  },
  {
   "cell_type": "code",
   "execution_count": 25,
   "metadata": {},
   "outputs": [
    {
     "name": "stdout",
     "output_type": "stream",
     "text": [
      "<class 'pandas.core.frame.DataFrame'>\n",
      "RangeIndex: 1000 entries, 0 to 999\n",
      "Data columns (total 7 columns):\n",
      " #   Column       Non-Null Count  Dtype         \n",
      "---  ------       --------------  -----         \n",
      " 0   id_employee  1000 non-null   int64         \n",
      " 1   gender       930 non-null    object        \n",
      " 2   start date   1000 non-null   datetime64[ns]\n",
      " 3   insurance    1000 non-null   bool          \n",
      " 4   salary       1000 non-null   int64         \n",
      " 5   rise_salary  1000 non-null   float64       \n",
      " 6   department   1000 non-null   object        \n",
      "dtypes: bool(1), datetime64[ns](1), float64(1), int64(2), object(2)\n",
      "memory usage: 48.0+ KB\n"
     ]
    }
   ],
   "source": [
    "employees2 = pd.read_csv(\"data/employees.csv\", parse_dates=[\"start date\"], date_format=\"%m/%d/%Y\")\n",
    "employees2.info()"
   ]
  },
  {
   "cell_type": "code",
   "execution_count": null,
   "metadata": {},
   "outputs": [],
   "source": []
  }
 ],
 "metadata": {
  "kernelspec": {
   "display_name": "Python 3",
   "language": "python",
   "name": "python3"
  },
  "language_info": {
   "codemirror_mode": {
    "name": "ipython",
    "version": 3
   },
   "file_extension": ".py",
   "mimetype": "text/x-python",
   "name": "python",
   "nbconvert_exporter": "python",
   "pygments_lexer": "ipython3",
   "version": "3.12.5"
  }
 },
 "nbformat": 4,
 "nbformat_minor": 2
}
