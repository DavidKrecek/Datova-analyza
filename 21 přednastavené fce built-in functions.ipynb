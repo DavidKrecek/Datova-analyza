{
 "cells": [
  {
   "cell_type": "markdown",
   "id": "c9dc1a69-f079-4775-8942-5fff1e063d58",
   "metadata": {},
   "source": [
    "## Built-in functions"
   ]
  },
  {
   "cell_type": "code",
   "execution_count": 2,
   "id": "55bb2353-e758-472b-af70-4b88e9d8fc85",
   "metadata": {},
   "outputs": [],
   "source": [
    "import pandas as pd"
   ]
  },
  {
   "cell_type": "code",
   "execution_count": 7,
   "id": "93f22bb2-f584-4ff5-bd7b-a456bf601f38",
   "metadata": {},
   "outputs": [
    {
     "data": {
      "text/plain": [
       "0       Shawn\n",
       "1    Sergeant\n",
       "2    Ambrosio\n",
       "3        Gram\n",
       "4       Britt\n",
       "Name: first_name, dtype: object"
      ]
     },
     "execution_count": 7,
     "metadata": {},
     "output_type": "execute_result"
    }
   ],
   "source": [
    "first_names = pd.read_csv(\"data/bank_users.csv\")[\"first_name\"]\n",
    "first_names.head()"
   ]
  },
  {
   "cell_type": "code",
   "execution_count": 10,
   "id": "29cedd61-0706-4b0b-a1b7-fa0b60e344c2",
   "metadata": {},
   "outputs": [
    {
     "data": {
      "text/plain": [
       "0    58.0\n",
       "1    70.0\n",
       "2    48.0\n",
       "3    92.0\n",
       "4    78.0\n",
       "Name: bank_account, dtype: float64"
      ]
     },
     "execution_count": 10,
     "metadata": {},
     "output_type": "execute_result"
    }
   ],
   "source": [
    "bank_account = pd.read_csv(\"data/bank_users.csv\")[\"bank_account\"]\n",
    "bank_account.head()"
   ]
  },
  {
   "cell_type": "markdown",
   "id": "3998a4cc-0d1f-480b-a847-33337a5a17a1",
   "metadata": {},
   "source": [
    "## Built-in fce"
   ]
  },
  {
   "cell_type": "code",
   "execution_count": 11,
   "id": "af26aa7e-ccc9-49bb-b11b-8e333d96fa76",
   "metadata": {},
   "outputs": [
    {
     "data": {
      "text/plain": [
       "200"
      ]
     },
     "execution_count": 11,
     "metadata": {},
     "output_type": "execute_result"
    }
   ],
   "source": [
    "len(first_names)"
   ]
  },
  {
   "cell_type": "code",
   "execution_count": 12,
   "id": "9f34c17f-d260-4799-a2ab-a0573a92cbc8",
   "metadata": {},
   "outputs": [
    {
     "data": {
      "text/plain": [
       "200"
      ]
     },
     "execution_count": 12,
     "metadata": {},
     "output_type": "execute_result"
    }
   ],
   "source": [
    "len(bank_account)"
   ]
  },
  {
   "cell_type": "code",
   "execution_count": 13,
   "id": "0f00bb58-00ed-4563-9e0e-907917f34cbc",
   "metadata": {},
   "outputs": [
    {
     "data": {
      "text/plain": [
       "pandas.core.series.Series"
      ]
     },
     "execution_count": 13,
     "metadata": {},
     "output_type": "execute_result"
    }
   ],
   "source": [
    "type(first_names)"
   ]
  },
  {
   "cell_type": "code",
   "execution_count": 14,
   "id": "83e93416-6155-4f2e-b553-d18b889f360c",
   "metadata": {},
   "outputs": [
    {
     "data": {
      "text/plain": [
       "pandas.core.series.Series"
      ]
     },
     "execution_count": 14,
     "metadata": {},
     "output_type": "execute_result"
    }
   ],
   "source": [
    "type(bank_account)"
   ]
  },
  {
   "cell_type": "code",
   "execution_count": 17,
   "id": "22f493bc-058a-46e9-a112-20c8a0b13832",
   "metadata": {},
   "outputs": [],
   "source": [
    "# list(first_names)"
   ]
  },
  {
   "cell_type": "code",
   "execution_count": 18,
   "id": "07061b82-c091-4134-a6e7-632a99e64da8",
   "metadata": {},
   "outputs": [],
   "source": [
    "# list(bank_account)"
   ]
  },
  {
   "cell_type": "code",
   "execution_count": 22,
   "id": "f6f5f2c4-492e-4e23-889a-0d1a6ea5c6cb",
   "metadata": {},
   "outputs": [],
   "source": [
    "# sorted(first_names)"
   ]
  },
  {
   "cell_type": "code",
   "execution_count": 21,
   "id": "a42a8a1e-f646-49bf-b236-292af8bdc542",
   "metadata": {},
   "outputs": [],
   "source": [
    "# sorted(bank_account)"
   ]
  },
  {
   "cell_type": "code",
   "execution_count": 24,
   "id": "1900cf49-3f73-44d3-89c6-79bd568f63a6",
   "metadata": {},
   "outputs": [],
   "source": [
    "# dict(first_names)"
   ]
  },
  {
   "cell_type": "code",
   "execution_count": 27,
   "id": "9f7d0ebc-1706-4d1f-9959-fb8a880e6f24",
   "metadata": {},
   "outputs": [],
   "source": [
    "# dict(bank_account)"
   ]
  },
  {
   "cell_type": "code",
   "execution_count": 28,
   "id": "0e19e43c-90ab-49fb-a03d-e45db3b16540",
   "metadata": {},
   "outputs": [
    {
     "data": {
      "text/plain": [
       "'Adham'"
      ]
     },
     "execution_count": 28,
     "metadata": {},
     "output_type": "execute_result"
    }
   ],
   "source": [
    "min(first_names)"
   ]
  },
  {
   "cell_type": "code",
   "execution_count": 29,
   "id": "cdfec64c-1c86-47c6-9917-2088870a73cb",
   "metadata": {},
   "outputs": [
    {
     "data": {
      "text/plain": [
       "'Willy'"
      ]
     },
     "execution_count": 29,
     "metadata": {},
     "output_type": "execute_result"
    }
   ],
   "source": [
    "max(first_names)"
   ]
  },
  {
   "cell_type": "code",
   "execution_count": 30,
   "id": "a17d9c49-9e9f-4f2d-b7b6-9c33b6a97cef",
   "metadata": {},
   "outputs": [
    {
     "data": {
      "text/plain": [
       "10.0"
      ]
     },
     "execution_count": 30,
     "metadata": {},
     "output_type": "execute_result"
    }
   ],
   "source": [
    "min(bank_account)"
   ]
  },
  {
   "cell_type": "code",
   "execution_count": 31,
   "id": "d321deb0-e8b7-4d0a-a3f6-e598454e4939",
   "metadata": {},
   "outputs": [
    {
     "data": {
      "text/plain": [
       "100.0"
      ]
     },
     "execution_count": 31,
     "metadata": {},
     "output_type": "execute_result"
    }
   ],
   "source": [
    "max(bank_account)"
   ]
  },
  {
   "cell_type": "code",
   "execution_count": null,
   "id": "8199d6a6-ae7f-4f7e-ac11-5b56c6cebe23",
   "metadata": {},
   "outputs": [],
   "source": []
  }
 ],
 "metadata": {
  "kernelspec": {
   "display_name": "Python 3 (ipykernel)",
   "language": "python",
   "name": "python3"
  },
  "language_info": {
   "codemirror_mode": {
    "name": "ipython",
    "version": 3
   },
   "file_extension": ".py",
   "mimetype": "text/x-python",
   "name": "python",
   "nbconvert_exporter": "python",
   "pygments_lexer": "ipython3",
   "version": "3.12.5"
  }
 },
 "nbformat": 4,
 "nbformat_minor": 5
}
