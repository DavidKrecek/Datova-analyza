{
 "cells": [
  {
   "cell_type": "code",
   "execution_count": 1,
   "metadata": {},
   "outputs": [],
   "source": [
    "import pandas as pd"
   ]
  },
  {
   "cell_type": "code",
   "execution_count": 9,
   "metadata": {},
   "outputs": [
    {
     "data": {
      "text/plain": [
       "last_name\n",
       "Gotts       58.0\n",
       "Linsey      70.0\n",
       "Gorton      48.0\n",
       "Steanyng    92.0\n",
       "Cockaday    78.0\n",
       "            ... \n",
       "Oppy        90.0\n",
       "Labbati     56.0\n",
       "Cordery      NaN\n",
       "Laughren    87.0\n",
       "Peckitt      NaN\n",
       "Name: bank_account, Length: 200, dtype: float64"
      ]
     },
     "execution_count": 9,
     "metadata": {},
     "output_type": "execute_result"
    }
   ],
   "source": [
    "bank_account= pd.read_csv(\"data/bank_users.csv\", index_col=\"last_name\", usecols=[\"last_name\", \"bank_account\"]).squeeze(\"columns\")\n",
    "bank_account"
   ]
  },
  {
   "cell_type": "code",
   "execution_count": 10,
   "metadata": {},
   "outputs": [
    {
     "data": {
      "text/plain": [
       "bank_account\n",
       "58.0    6\n",
       "72.0    6\n",
       "43.0    5\n",
       "48.0    5\n",
       "56.0    5\n",
       "       ..\n",
       "49.0    1\n",
       "77.0    1\n",
       "83.0    1\n",
       "23.0    1\n",
       "76.0    1\n",
       "Name: count, Length: 76, dtype: int64"
      ]
     },
     "execution_count": 10,
     "metadata": {},
     "output_type": "execute_result"
    }
   ],
   "source": [
    "bank_account.value_counts()"
   ]
  },
  {
   "cell_type": "code",
   "execution_count": 16,
   "metadata": {},
   "outputs": [
    {
     "data": {
      "text/plain": [
       "bank_account\n",
       "70.0    1\n",
       "92.0    1\n",
       "62.0    1\n",
       "30.0    1\n",
       "81.0    1\n",
       "       ..\n",
       "43.0    5\n",
       "56.0    5\n",
       "21.0    5\n",
       "58.0    6\n",
       "72.0    6\n",
       "Name: count, Length: 76, dtype: int64"
      ]
     },
     "execution_count": 16,
     "metadata": {},
     "output_type": "execute_result"
    }
   ],
   "source": [
    "bank_account.value_counts(ascending=True)"
   ]
  },
  {
   "cell_type": "code",
   "execution_count": 20,
   "metadata": {},
   "outputs": [
    {
     "data": {
      "text/plain": [
       "bank_account\n",
       "58.0    3.351955\n",
       "72.0    3.351955\n",
       "43.0    2.793296\n",
       "48.0    2.793296\n",
       "56.0    2.793296\n",
       "          ...   \n",
       "49.0    0.558659\n",
       "77.0    0.558659\n",
       "83.0    0.558659\n",
       "23.0    0.558659\n",
       "76.0    0.558659\n",
       "Name: proportion, Length: 76, dtype: float64"
      ]
     },
     "execution_count": 20,
     "metadata": {},
     "output_type": "execute_result"
    }
   ],
   "source": [
    "bank_account.value_counts(normalize=True)*100"
   ]
  },
  {
   "cell_type": "code",
   "execution_count": null,
   "metadata": {},
   "outputs": [],
   "source": []
  }
 ],
 "metadata": {
  "kernelspec": {
   "display_name": "Python 3",
   "language": "python",
   "name": "python3"
  },
  "language_info": {
   "codemirror_mode": {
    "name": "ipython",
    "version": 3
   },
   "file_extension": ".py",
   "mimetype": "text/x-python",
   "name": "python",
   "nbconvert_exporter": "python",
   "pygments_lexer": "ipython3",
   "version": "3.12.5"
  }
 },
 "nbformat": 4,
 "nbformat_minor": 2
}
