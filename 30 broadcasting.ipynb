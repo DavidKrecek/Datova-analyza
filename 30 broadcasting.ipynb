{
 "cells": [
  {
   "cell_type": "code",
   "execution_count": 2,
   "metadata": {},
   "outputs": [],
   "source": [
    "import pandas as pd"
   ]
  },
  {
   "cell_type": "code",
   "execution_count": 3,
   "metadata": {},
   "outputs": [
    {
     "data": {
      "text/plain": [
       "0      58.0\n",
       "1      70.0\n",
       "2      48.0\n",
       "3      92.0\n",
       "4      78.0\n",
       "       ... \n",
       "195    90.0\n",
       "196    56.0\n",
       "197     NaN\n",
       "198    87.0\n",
       "199     NaN\n",
       "Name: bank_account, Length: 200, dtype: float64"
      ]
     },
     "execution_count": 3,
     "metadata": {},
     "output_type": "execute_result"
    }
   ],
   "source": [
    "bank_account = pd.read_csv(\"data/bank_users.csv\")[\"bank_account\"]\n",
    "bank_account"
   ]
  },
  {
   "cell_type": "code",
   "execution_count": 4,
   "metadata": {},
   "outputs": [
    {
     "data": {
      "text/plain": [
       "pandas.core.series.Series"
      ]
     },
     "execution_count": 4,
     "metadata": {},
     "output_type": "execute_result"
    }
   ],
   "source": [
    "type(bank_account)"
   ]
  },
  {
   "cell_type": "code",
   "execution_count": 5,
   "metadata": {},
   "outputs": [
    {
     "data": {
      "text/plain": [
       "0       68.0\n",
       "1       80.0\n",
       "2       58.0\n",
       "3      102.0\n",
       "4       88.0\n",
       "       ...  \n",
       "195    100.0\n",
       "196     66.0\n",
       "197      NaN\n",
       "198     97.0\n",
       "199      NaN\n",
       "Name: bank_account, Length: 200, dtype: float64"
      ]
     },
     "execution_count": 5,
     "metadata": {},
     "output_type": "execute_result"
    }
   ],
   "source": [
    "bank_account + 10"
   ]
  },
  {
   "cell_type": "code",
   "execution_count": 6,
   "metadata": {},
   "outputs": [
    {
     "data": {
      "text/plain": [
       "0       68.0\n",
       "1       80.0\n",
       "2       58.0\n",
       "3      102.0\n",
       "4       88.0\n",
       "       ...  \n",
       "195    100.0\n",
       "196     66.0\n",
       "197      NaN\n",
       "198     97.0\n",
       "199      NaN\n",
       "Name: bank_account, Length: 200, dtype: float64"
      ]
     },
     "execution_count": 6,
     "metadata": {},
     "output_type": "execute_result"
    }
   ],
   "source": [
    "bank_account.add(10)"
   ]
  },
  {
   "cell_type": "code",
   "execution_count": 7,
   "metadata": {},
   "outputs": [
    {
     "data": {
      "text/plain": [
       "0      28.0\n",
       "1      40.0\n",
       "2      18.0\n",
       "3      62.0\n",
       "4      48.0\n",
       "       ... \n",
       "195    60.0\n",
       "196    26.0\n",
       "197     NaN\n",
       "198    57.0\n",
       "199     NaN\n",
       "Name: bank_account, Length: 200, dtype: float64"
      ]
     },
     "execution_count": 7,
     "metadata": {},
     "output_type": "execute_result"
    }
   ],
   "source": [
    "bank_account.sub(30)"
   ]
  },
  {
   "cell_type": "code",
   "execution_count": 8,
   "metadata": {},
   "outputs": [
    {
     "data": {
      "text/plain": [
       "0      5800.0\n",
       "1      7000.0\n",
       "2      4800.0\n",
       "3      9200.0\n",
       "4      7800.0\n",
       "        ...  \n",
       "195    9000.0\n",
       "196    5600.0\n",
       "197       NaN\n",
       "198    8700.0\n",
       "199       NaN\n",
       "Name: bank_account, Length: 200, dtype: float64"
      ]
     },
     "execution_count": 8,
     "metadata": {},
     "output_type": "execute_result"
    }
   ],
   "source": [
    "bank_account.mul(100)"
   ]
  },
  {
   "cell_type": "code",
   "execution_count": 10,
   "metadata": {},
   "outputs": [
    {
     "data": {
      "text/plain": [
       "0      0.58\n",
       "1      0.70\n",
       "2      0.48\n",
       "3      0.92\n",
       "4      0.78\n",
       "       ... \n",
       "195    0.90\n",
       "196    0.56\n",
       "197     NaN\n",
       "198    0.87\n",
       "199     NaN\n",
       "Name: bank_account, Length: 200, dtype: float64"
      ]
     },
     "execution_count": 10,
     "metadata": {},
     "output_type": "execute_result"
    }
   ],
   "source": [
    "bank_account.div(100)"
   ]
  },
  {
   "cell_type": "code",
   "execution_count": null,
   "metadata": {},
   "outputs": [],
   "source": []
  }
 ],
 "metadata": {
  "kernelspec": {
   "display_name": "Python 3",
   "language": "python",
   "name": "python3"
  },
  "language_info": {
   "codemirror_mode": {
    "name": "ipython",
    "version": 3
   },
   "file_extension": ".py",
   "mimetype": "text/x-python",
   "name": "python",
   "nbconvert_exporter": "python",
   "pygments_lexer": "ipython3",
   "version": "3.12.5"
  }
 },
 "nbformat": 4,
 "nbformat_minor": 2
}
