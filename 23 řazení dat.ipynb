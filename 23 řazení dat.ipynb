{
 "cells": [
  {
   "cell_type": "code",
   "execution_count": 14,
   "id": "1a112092-b585-49b7-b0c5-cf955c7d6867",
   "metadata": {},
   "outputs": [],
   "source": [
    "import pandas as pd"
   ]
  },
  {
   "cell_type": "code",
   "execution_count": 15,
   "id": "8db4bb5d-ad3c-4770-b510-02b56e3b8010",
   "metadata": {},
   "outputs": [],
   "source": [
    "last_names = pd.read_csv(\"data/bank_users.csv\")[\"last_name\"]"
   ]
  },
  {
   "cell_type": "code",
   "execution_count": 16,
   "id": "9272e186-413e-4475-93dc-7a853cf5e63d",
   "metadata": {},
   "outputs": [],
   "source": [
    "bank_account = pd.read_csv(\"data/bank_users.csv\")[\"bank_account\"]"
   ]
  },
  {
   "cell_type": "markdown",
   "id": "c9281242",
   "metadata": {},
   "source": [
    "Řazení"
   ]
  },
  {
   "cell_type": "code",
   "execution_count": 17,
   "id": "f21ec5fd",
   "metadata": {},
   "outputs": [
    {
     "data": {
      "text/plain": [
       "63         Adamec\n",
       "173      Alyokhin\n",
       "184      Ancliffe\n",
       "116         Artis\n",
       "39            Ary\n",
       "          ...    \n",
       "191        Wraith\n",
       "71     Yakobovicz\n",
       "188       Yglesia\n",
       "15       Youngman\n",
       "82        Yushkin\n",
       "Name: last_name, Length: 200, dtype: object"
      ]
     },
     "execution_count": 17,
     "metadata": {},
     "output_type": "execute_result"
    }
   ],
   "source": [
    "last_names.sort_values()"
   ]
  },
  {
   "cell_type": "code",
   "execution_count": 18,
   "id": "cbbde668",
   "metadata": {},
   "outputs": [
    {
     "data": {
      "text/plain": [
       "34     10.0\n",
       "65     10.0\n",
       "174    10.0\n",
       "125    11.0\n",
       "89     11.0\n",
       "       ... \n",
       "151     NaN\n",
       "166     NaN\n",
       "169     NaN\n",
       "197     NaN\n",
       "199     NaN\n",
       "Name: bank_account, Length: 200, dtype: float64"
      ]
     },
     "execution_count": 18,
     "metadata": {},
     "output_type": "execute_result"
    }
   ],
   "source": [
    "bank_account.sort_values()"
   ]
  },
  {
   "cell_type": "code",
   "execution_count": 20,
   "id": "911bd837",
   "metadata": {},
   "outputs": [
    {
     "data": {
      "text/plain": [
       "63         Adamec\n",
       "173      Alyokhin\n",
       "184      Ancliffe\n",
       "116         Artis\n",
       "39            Ary\n",
       "          ...    \n",
       "191        Wraith\n",
       "71     Yakobovicz\n",
       "188       Yglesia\n",
       "15       Youngman\n",
       "82        Yushkin\n",
       "Name: last_name, Length: 200, dtype: object"
      ]
     },
     "execution_count": 20,
     "metadata": {},
     "output_type": "execute_result"
    }
   ],
   "source": [
    "last_names.sort_values(ascending=True)"
   ]
  },
  {
   "cell_type": "code",
   "execution_count": 21,
   "id": "204b0241",
   "metadata": {},
   "outputs": [
    {
     "data": {
      "text/plain": [
       "82        Yushkin\n",
       "15       Youngman\n",
       "188       Yglesia\n",
       "71     Yakobovicz\n",
       "191        Wraith\n",
       "          ...    \n",
       "39            Ary\n",
       "116         Artis\n",
       "184      Ancliffe\n",
       "173      Alyokhin\n",
       "63         Adamec\n",
       "Name: last_name, Length: 200, dtype: object"
      ]
     },
     "execution_count": 21,
     "metadata": {},
     "output_type": "execute_result"
    }
   ],
   "source": [
    "last_names.sort_values(ascending=False)"
   ]
  },
  {
   "cell_type": "code",
   "execution_count": 22,
   "id": "7c201d23",
   "metadata": {},
   "outputs": [
    {
     "data": {
      "text/plain": [
       "34     10.0\n",
       "65     10.0\n",
       "174    10.0\n",
       "125    11.0\n",
       "89     11.0\n",
       "       ... \n",
       "151     NaN\n",
       "166     NaN\n",
       "169     NaN\n",
       "197     NaN\n",
       "199     NaN\n",
       "Name: bank_account, Length: 200, dtype: float64"
      ]
     },
     "execution_count": 22,
     "metadata": {},
     "output_type": "execute_result"
    }
   ],
   "source": [
    "bank_account.sort_values(ascending=True)"
   ]
  },
  {
   "cell_type": "code",
   "execution_count": 24,
   "id": "14025b9d",
   "metadata": {},
   "outputs": [
    {
     "data": {
      "text/plain": [
       "49     100.0\n",
       "127    100.0\n",
       "51      98.0\n",
       "87      97.0\n",
       "96      97.0\n",
       "Name: bank_account, dtype: float64"
      ]
     },
     "execution_count": 24,
     "metadata": {},
     "output_type": "execute_result"
    }
   ],
   "source": [
    "bank_account.sort_values(ascending=False).head()"
   ]
  },
  {
   "cell_type": "code",
   "execution_count": 26,
   "id": "22f03a97",
   "metadata": {},
   "outputs": [
    {
     "data": {
      "text/plain": [
       "117   NaN\n",
       "133   NaN\n",
       "144   NaN\n",
       "151   NaN\n",
       "166   NaN\n",
       "169   NaN\n",
       "197   NaN\n",
       "199   NaN\n",
       "Name: bank_account, dtype: float64"
      ]
     },
     "execution_count": 26,
     "metadata": {},
     "output_type": "execute_result"
    }
   ],
   "source": [
    "bank_account.sort_values(ascending=False).tail(8)"
   ]
  },
  {
   "cell_type": "code",
   "execution_count": null,
   "id": "fd6053bb",
   "metadata": {},
   "outputs": [],
   "source": []
  }
 ],
 "metadata": {
  "kernelspec": {
   "display_name": "Python 3",
   "language": "python",
   "name": "python3"
  },
  "language_info": {
   "codemirror_mode": {
    "name": "ipython",
    "version": 3
   },
   "file_extension": ".py",
   "mimetype": "text/x-python",
   "name": "python",
   "nbconvert_exporter": "python",
   "pygments_lexer": "ipython3",
   "version": "3.12.5"
  }
 },
 "nbformat": 4,
 "nbformat_minor": 5
}
