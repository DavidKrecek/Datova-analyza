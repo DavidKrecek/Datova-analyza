{
 "cells": [
  {
   "cell_type": "code",
   "execution_count": 1,
   "metadata": {},
   "outputs": [
    {
     "name": "stdout",
     "output_type": "stream",
     "text": [
      "        lat1       lon1     lat2    lon2  distance_km\n",
      "0  50.087451  14.420671  51.5074 -0.1278  1032.842979\n",
      "1  50.087451  14.420671  48.8566  2.3522   881.695713\n"
     ]
    }
   ],
   "source": [
    "import pandas as pd\n",
    "import numpy as np\n",
    "\n",
    "# Funkce pro výpočet Haversineovy vzdálenosti\n",
    "def haversine(lat1, lon1, lat2, lon2):\n",
    "    # Převod stupňů na radiány\n",
    "    lat1, lon1, lat2, lon2 = map(np.radians, [lat1, lon1, lat2, lon2])\n",
    "\n",
    "    # Haversineova rovnice\n",
    "    dlat = lat2 - lat1\n",
    "    dlon = lon2 - lon1\n",
    "    a = np.sin(dlat/2)**2 + np.cos(lat1) * np.cos(lat2) * np.sin(dlon/2)**2\n",
    "    c = 2 * np.arcsin(np.sqrt(a))\n",
    "    \n",
    "    # Poloměr Země v kilometrech (můžeš změnit na míle, pokud chceš)\n",
    "    r = 6371\n",
    "    return c * r\n",
    "\n",
    "# Vytvoř DataFrame\n",
    "data = {'lat1': [50.087451, 50.087451],\n",
    "        'lon1': [14.420671, 14.420671],\n",
    "        'lat2': [51.5074, 48.8566],\n",
    "        'lon2': [-0.1278, 2.3522]}\n",
    "\n",
    "df = pd.DataFrame(data)\n",
    "\n",
    "# Aplikuj funkci na každý řádek a ulož výsledek do nového sloupce\n",
    "df['distance_km'] = haversine(df['lat1'], df['lon1'], df['lat2'], df['lon2'])\n",
    "\n",
    "# Zobrazení výsledného DataFrame\n",
    "print(df)"
   ]
  },
  {
   "cell_type": "code",
   "execution_count": null,
   "metadata": {},
   "outputs": [],
   "source": []
  }
 ],
 "metadata": {
  "kernelspec": {
   "display_name": "Python 3",
   "language": "python",
   "name": "python3"
  },
  "language_info": {
   "codemirror_mode": {
    "name": "ipython",
    "version": 3
   },
   "file_extension": ".py",
   "mimetype": "text/x-python",
   "name": "python",
   "nbconvert_exporter": "python",
   "pygments_lexer": "ipython3",
   "version": "3.12.5"
  }
 },
 "nbformat": 4,
 "nbformat_minor": 2
}
