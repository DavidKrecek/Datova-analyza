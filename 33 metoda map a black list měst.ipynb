{
 "cells": [
  {
   "cell_type": "code",
   "execution_count": 1,
   "metadata": {},
   "outputs": [],
   "source": [
    "import pandas as pd"
   ]
  },
  {
   "cell_type": "code",
   "execution_count": 3,
   "metadata": {},
   "outputs": [
    {
     "data": {
      "text/plain": [
       "last_name\n",
       "Gotts                    Jinchuan\n",
       "Linsey                    Tāngāil\n",
       "Gorton      Zhushan Chengguanzhen\n",
       "Steanyng                 Hongxing\n",
       "Cockaday               Nangabulik\n",
       "                    ...          \n",
       "Oppy               Bílina Kyselka\n",
       "Labbati                    Berlin\n",
       "Cordery                 Veshnyaki\n",
       "Laughren               Detik Satu\n",
       "Peckitt                   Phú Lộc\n",
       "Name: city, Length: 200, dtype: object"
      ]
     },
     "execution_count": 3,
     "metadata": {},
     "output_type": "execute_result"
    }
   ],
   "source": [
    "city = pd.read_csv(\"data/bank_users.csv\", index_col=\"last_name\", usecols=[\"last_name\", \"city\"]).squeeze(\"columns\")\n",
    "city"
   ]
  },
  {
   "cell_type": "code",
   "execution_count": 5,
   "metadata": {},
   "outputs": [],
   "source": [
    "city_black_list = pd.Series({\n",
    "    'Jinchuan': 'critical',\n",
    "    'Hongxing': 'critical',\n",
    "    'Berlin': 'super critical',\n",
    "    'Veshnyaki': 'critical',\n",
    "})\n"
   ]
  },
  {
   "cell_type": "code",
   "execution_count": 7,
   "metadata": {},
   "outputs": [
    {
     "data": {
      "text/plain": [
       "last_name\n",
       "Gotts             critical\n",
       "Linsey                 NaN\n",
       "Gorton                 NaN\n",
       "Steanyng          critical\n",
       "Cockaday               NaN\n",
       "                 ...      \n",
       "Oppy                   NaN\n",
       "Labbati     super critical\n",
       "Cordery           critical\n",
       "Laughren               NaN\n",
       "Peckitt                NaN\n",
       "Name: city, Length: 200, dtype: object"
      ]
     },
     "execution_count": 7,
     "metadata": {},
     "output_type": "execute_result"
    }
   ],
   "source": [
    "city.map(city_black_list)"
   ]
  },
  {
   "cell_type": "code",
   "execution_count": 8,
   "metadata": {},
   "outputs": [
    {
     "data": {
      "text/plain": [
       "last_name\n",
       "Gotts             critical\n",
       "Steanyng          critical\n",
       "Labbati     super critical\n",
       "Cordery           critical\n",
       "Name: city, dtype: object"
      ]
     },
     "execution_count": 8,
     "metadata": {},
     "output_type": "execute_result"
    }
   ],
   "source": [
    "city.map(city_black_list).dropna()"
   ]
  },
  {
   "cell_type": "code",
   "execution_count": null,
   "metadata": {},
   "outputs": [],
   "source": []
  }
 ],
 "metadata": {
  "kernelspec": {
   "display_name": "Python 3",
   "language": "python",
   "name": "python3"
  },
  "language_info": {
   "codemirror_mode": {
    "name": "ipython",
    "version": 3
   },
   "file_extension": ".py",
   "mimetype": "text/x-python",
   "name": "python",
   "nbconvert_exporter": "python",
   "pygments_lexer": "ipython3",
   "version": "3.12.5"
  }
 },
 "nbformat": 4,
 "nbformat_minor": 2
}
