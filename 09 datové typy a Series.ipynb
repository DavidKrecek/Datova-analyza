{
 "cells": [
  {
   "cell_type": "code",
   "execution_count": 1,
   "id": "d0ac149f-cc97-48d3-b298-4144857723ca",
   "metadata": {},
   "outputs": [
    {
     "data": {
      "text/plain": [
       "'David'"
      ]
     },
     "execution_count": 1,
     "metadata": {},
     "output_type": "execute_result"
    }
   ],
   "source": [
    "first_name = \"David\"\n",
    "first_name"
   ]
  },
  {
   "cell_type": "code",
   "execution_count": 2,
   "id": "9b52729e-33ba-424b-a47c-f67d02d9af5f",
   "metadata": {},
   "outputs": [
    {
     "data": {
      "text/plain": [
       "30"
      ]
     },
     "execution_count": 2,
     "metadata": {},
     "output_type": "execute_result"
    }
   ],
   "source": [
    "age = 30\n",
    "age"
   ]
  },
  {
   "cell_type": "code",
   "execution_count": 3,
   "id": "22fadc1b-838b-41f0-ae7d-1d041681d6d9",
   "metadata": {},
   "outputs": [
    {
     "data": {
      "text/plain": [
       "True"
      ]
     },
     "execution_count": 3,
     "metadata": {},
     "output_type": "execute_result"
    }
   ],
   "source": [
    "adult = True\n",
    "adult"
   ]
  },
  {
   "cell_type": "markdown",
   "id": "c3098bcd-a384-4880-8fb7-39d0726e8489",
   "metadata": {},
   "source": [
    "## List"
   ]
  },
  {
   "cell_type": "code",
   "execution_count": 4,
   "id": "7517ec23-7ce9-48ac-af26-a8589347f85c",
   "metadata": {},
   "outputs": [
    {
     "data": {
      "text/plain": [
       "'David'"
      ]
     },
     "execution_count": 4,
     "metadata": {},
     "output_type": "execute_result"
    }
   ],
   "source": [
    "students = [\"David\", \"Harry\", \"Ron\"]\n",
    "students[0]"
   ]
  },
  {
   "cell_type": "markdown",
   "id": "31eeff23-3772-4ffc-8fae-83495327394e",
   "metadata": {},
   "source": [
    "## Dictionary"
   ]
  },
  {
   "cell_type": "code",
   "execution_count": 5,
   "id": "048baf5f-9ff7-4cbd-9930-87d1269cf082",
   "metadata": {},
   "outputs": [
    {
     "data": {
      "text/plain": [
       "'John'"
      ]
     },
     "execution_count": 5,
     "metadata": {},
     "output_type": "execute_result"
    }
   ],
   "source": [
    "person = {\n",
    "    \"first_name\": \"John\",\n",
    "    \"second_name\": \"Novák\",\n",
    "    \"age\": 35\n",
    "}\n",
    "person[\"first_name\"]"
   ]
  },
  {
   "cell_type": "markdown",
   "id": "a90b8f27-58d5-4d37-a994-2062b468b289",
   "metadata": {},
   "source": [
    "## Series"
   ]
  },
  {
   "cell_type": "code",
   "execution_count": 6,
   "id": "7f8c4432-0470-425e-a295-60a2c05c99fd",
   "metadata": {},
   "outputs": [],
   "source": [
    "import pandas as pd"
   ]
  },
  {
   "cell_type": "code",
   "execution_count": 7,
   "id": "d3d36fc2-c2c8-452b-8c00-fbcac9798729",
   "metadata": {},
   "outputs": [],
   "source": [
    "fruit = [\"jablko\", \"banán\", \"pomeranč\", \"kiwi\"]"
   ]
  },
  {
   "cell_type": "raw",
   "id": "130b8ee3-0c34-4620-b526-0513cf245938",
   "metadata": {},
   "source": [
    "... z toho vytvořím Series, aby to bylo připravený pro práci..."
   ]
  },
  {
   "cell_type": "code",
   "execution_count": 9,
   "id": "9c7732aa-1c13-4bdc-9d79-d0e867260e39",
   "metadata": {},
   "outputs": [],
   "source": [
    "fruit_s = pd.Series(fruit)"
   ]
  },
  {
   "cell_type": "code",
   "execution_count": 10,
   "id": "2d91a075-b7b6-48aa-a9fb-5a2c35b92d22",
   "metadata": {},
   "outputs": [
    {
     "data": {
      "text/plain": [
       "0      jablko\n",
       "1       banán\n",
       "2    pomeranč\n",
       "3        kiwi\n",
       "dtype: object"
      ]
     },
     "execution_count": 10,
     "metadata": {},
     "output_type": "execute_result"
    }
   ],
   "source": [
    "fruit_s"
   ]
  },
  {
   "cell_type": "code",
   "execution_count": 15,
   "id": "f7829edb-904b-421d-90c5-b6b5e5d1db38",
   "metadata": {},
   "outputs": [
    {
     "data": {
      "text/plain": [
       "0    38\n",
       "1    39\n",
       "2    40\n",
       "3    41\n",
       "dtype: int64"
      ]
     },
     "execution_count": 15,
     "metadata": {},
     "output_type": "execute_result"
    }
   ],
   "source": [
    "shoe_size = [38, 39, 40, 41]\n",
    "shoe_size_s = pd.Series(shoe_size)\n",
    "shoe_size_s"
   ]
  },
  {
   "cell_type": "code",
   "execution_count": 16,
   "id": "33615925-26ff-4450-9c8b-fdfb07c41191",
   "metadata": {},
   "outputs": [
    {
     "data": {
      "text/plain": [
       "0     True\n",
       "1    False\n",
       "2    False\n",
       "3     True\n",
       "4     True\n",
       "dtype: bool"
      ]
     },
     "execution_count": 16,
     "metadata": {},
     "output_type": "execute_result"
    }
   ],
   "source": [
    "vip = [True, False, False, True, True]\n",
    "vip_s = pd.Series(vip)\n",
    "vip_s"
   ]
  },
  {
   "cell_type": "raw",
   "id": "0905c00e-2251-430f-a152-15973248a357",
   "metadata": {},
   "source": [
    "... nebo zkráceně to samé, narvu to tam rovnou...."
   ]
  },
  {
   "cell_type": "code",
   "execution_count": 17,
   "id": "a33a0fdd-7654-4b88-b69a-6c52ea08c7f4",
   "metadata": {},
   "outputs": [
    {
     "data": {
      "text/plain": [
       "0     True\n",
       "1    False\n",
       "2    False\n",
       "3     True\n",
       "4     True\n",
       "dtype: bool"
      ]
     },
     "execution_count": 17,
     "metadata": {},
     "output_type": "execute_result"
    }
   ],
   "source": [
    "vip_s = pd.Series([True, False, False, True, True])\n",
    "vip_s"
   ]
  },
  {
   "cell_type": "code",
   "execution_count": null,
   "id": "3d8c4cac-4fbb-4839-ad8e-fbcc09aff49f",
   "metadata": {},
   "outputs": [],
   "source": []
  }
 ],
 "metadata": {
  "kernelspec": {
   "display_name": "Python 3 (ipykernel)",
   "language": "python",
   "name": "python3"
  },
  "language_info": {
   "codemirror_mode": {
    "name": "ipython",
    "version": 3
   },
   "file_extension": ".py",
   "mimetype": "text/x-python",
   "name": "python",
   "nbconvert_exporter": "python",
   "pygments_lexer": "ipython3",
   "version": "3.12.5"
  }
 },
 "nbformat": 4,
 "nbformat_minor": 5
}
