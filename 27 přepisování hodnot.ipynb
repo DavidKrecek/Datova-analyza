{
 "cells": [
  {
   "cell_type": "code",
   "execution_count": 16,
   "metadata": {},
   "outputs": [],
   "source": [
    "import pandas as pd"
   ]
  },
  {
   "cell_type": "code",
   "execution_count": 17,
   "metadata": {},
   "outputs": [
    {
     "data": {
      "text/plain": [
       "0         Gotts\n",
       "1        Linsey\n",
       "2        Gorton\n",
       "3      Steanyng\n",
       "4      Cockaday\n",
       "         ...   \n",
       "195        Oppy\n",
       "196     Labbati\n",
       "197     Cordery\n",
       "198    Laughren\n",
       "199     Peckitt\n",
       "Name: last_name, Length: 200, dtype: object"
      ]
     },
     "execution_count": 17,
     "metadata": {},
     "output_type": "execute_result"
    }
   ],
   "source": [
    "bank_users = pd.read_csv(\"data/bank_users.csv\", usecols=[\"last_name\"]).squeeze(\"columns\")\n",
    "bank_users"
   ]
  },
  {
   "cell_type": "code",
   "execution_count": 18,
   "metadata": {},
   "outputs": [
    {
     "data": {
      "text/plain": [
       "0       Šetek\n",
       "1      Linsey\n",
       "2      Gorton\n",
       "3    Steanyng\n",
       "4    Cockaday\n",
       "Name: last_name, dtype: object"
      ]
     },
     "execution_count": 18,
     "metadata": {},
     "output_type": "execute_result"
    }
   ],
   "source": [
    "bank_users[0] = \"Šetek\"\n",
    "bank_users.head()"
   ]
  },
  {
   "cell_type": "code",
   "execution_count": 19,
   "metadata": {},
   "outputs": [
    {
     "data": {
      "text/plain": [
       "0        Šetek\n",
       "1        Harry\n",
       "2          Ron\n",
       "3    Herminona\n",
       "4     Cockaday\n",
       "Name: last_name, dtype: object"
      ]
     },
     "execution_count": 19,
     "metadata": {},
     "output_type": "execute_result"
    }
   ],
   "source": [
    "bank_users[[1,2,3]] = [\"Harry\", \"Ron\", \"Herminona\"]\n",
    "bank_users.head()"
   ]
  },
  {
   "cell_type": "code",
   "execution_count": 20,
   "metadata": {},
   "outputs": [
    {
     "data": {
      "text/plain": [
       "0       Potter\n",
       "1        Harry\n",
       "2          Ron\n",
       "3    Herminona\n",
       "4     Cockaday\n",
       "Name: last_name, dtype: object"
      ]
     },
     "execution_count": 20,
     "metadata": {},
     "output_type": "execute_result"
    }
   ],
   "source": [
    "bank_users.iloc[0] = \"Potter\"\n",
    "bank_users.head()"
   ]
  },
  {
   "cell_type": "code",
   "execution_count": 21,
   "metadata": {},
   "outputs": [
    {
     "data": {
      "text/plain": [
       "0      Potter\n",
       "1       Jedna\n",
       "2         Dva\n",
       "3         Tři\n",
       "4    Cockaday\n",
       "Name: last_name, dtype: object"
      ]
     },
     "execution_count": 21,
     "metadata": {},
     "output_type": "execute_result"
    }
   ],
   "source": [
    "bank_users.iloc[[1, 2, 3]] = [\"Jedna\", \"Dva\", \"Tři\"]\n",
    "bank_users.head()"
   ]
  },
  {
   "cell_type": "code",
   "execution_count": null,
   "metadata": {},
   "outputs": [],
   "source": []
  }
 ],
 "metadata": {
  "kernelspec": {
   "display_name": "Python 3",
   "language": "python",
   "name": "python3"
  },
  "language_info": {
   "codemirror_mode": {
    "name": "ipython",
    "version": 3
   },
   "file_extension": ".py",
   "mimetype": "text/x-python",
   "name": "python",
   "nbconvert_exporter": "python",
   "pygments_lexer": "ipython3",
   "version": "3.12.5"
  }
 },
 "nbformat": 4,
 "nbformat_minor": 2
}
