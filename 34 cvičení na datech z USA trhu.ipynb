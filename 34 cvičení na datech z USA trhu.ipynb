{
 "cells": [
  {
   "cell_type": "code",
   "execution_count": 1,
   "metadata": {},
   "outputs": [],
   "source": [
    "import pandas as pd"
   ]
  },
  {
   "cell_type": "code",
   "execution_count": 2,
   "metadata": {},
   "outputs": [
    {
     "data": {
      "text/html": [
       "<div>\n",
       "<style scoped>\n",
       "    .dataframe tbody tr th:only-of-type {\n",
       "        vertical-align: middle;\n",
       "    }\n",
       "\n",
       "    .dataframe tbody tr th {\n",
       "        vertical-align: top;\n",
       "    }\n",
       "\n",
       "    .dataframe thead th {\n",
       "        text-align: right;\n",
       "    }\n",
       "</style>\n",
       "<table border=\"1\" class=\"dataframe\">\n",
       "  <thead>\n",
       "    <tr style=\"text-align: right;\">\n",
       "      <th></th>\n",
       "      <th>brokered_by</th>\n",
       "      <th>status</th>\n",
       "      <th>price</th>\n",
       "      <th>bed</th>\n",
       "      <th>bath</th>\n",
       "      <th>acre_lot</th>\n",
       "      <th>street</th>\n",
       "      <th>city</th>\n",
       "      <th>state</th>\n",
       "      <th>zip_code</th>\n",
       "      <th>house_size</th>\n",
       "      <th>prev_sold_date</th>\n",
       "    </tr>\n",
       "  </thead>\n",
       "  <tbody>\n",
       "    <tr>\n",
       "      <th>0</th>\n",
       "      <td>103378.0</td>\n",
       "      <td>for_sale</td>\n",
       "      <td>105000.0</td>\n",
       "      <td>3.0</td>\n",
       "      <td>2.0</td>\n",
       "      <td>0.12</td>\n",
       "      <td>1962661.0</td>\n",
       "      <td>Adjuntas</td>\n",
       "      <td>Puerto Rico</td>\n",
       "      <td>601.0</td>\n",
       "      <td>920.0</td>\n",
       "      <td>NaN</td>\n",
       "    </tr>\n",
       "    <tr>\n",
       "      <th>1</th>\n",
       "      <td>52707.0</td>\n",
       "      <td>for_sale</td>\n",
       "      <td>80000.0</td>\n",
       "      <td>4.0</td>\n",
       "      <td>2.0</td>\n",
       "      <td>0.08</td>\n",
       "      <td>1902874.0</td>\n",
       "      <td>Adjuntas</td>\n",
       "      <td>Puerto Rico</td>\n",
       "      <td>601.0</td>\n",
       "      <td>1527.0</td>\n",
       "      <td>NaN</td>\n",
       "    </tr>\n",
       "    <tr>\n",
       "      <th>2</th>\n",
       "      <td>103379.0</td>\n",
       "      <td>for_sale</td>\n",
       "      <td>67000.0</td>\n",
       "      <td>2.0</td>\n",
       "      <td>1.0</td>\n",
       "      <td>0.15</td>\n",
       "      <td>1404990.0</td>\n",
       "      <td>Juana Diaz</td>\n",
       "      <td>Puerto Rico</td>\n",
       "      <td>795.0</td>\n",
       "      <td>748.0</td>\n",
       "      <td>NaN</td>\n",
       "    </tr>\n",
       "    <tr>\n",
       "      <th>3</th>\n",
       "      <td>31239.0</td>\n",
       "      <td>for_sale</td>\n",
       "      <td>145000.0</td>\n",
       "      <td>4.0</td>\n",
       "      <td>2.0</td>\n",
       "      <td>0.10</td>\n",
       "      <td>1947675.0</td>\n",
       "      <td>Ponce</td>\n",
       "      <td>Puerto Rico</td>\n",
       "      <td>731.0</td>\n",
       "      <td>1800.0</td>\n",
       "      <td>NaN</td>\n",
       "    </tr>\n",
       "    <tr>\n",
       "      <th>4</th>\n",
       "      <td>34632.0</td>\n",
       "      <td>for_sale</td>\n",
       "      <td>65000.0</td>\n",
       "      <td>6.0</td>\n",
       "      <td>2.0</td>\n",
       "      <td>0.05</td>\n",
       "      <td>331151.0</td>\n",
       "      <td>Mayaguez</td>\n",
       "      <td>Puerto Rico</td>\n",
       "      <td>680.0</td>\n",
       "      <td>NaN</td>\n",
       "      <td>NaN</td>\n",
       "    </tr>\n",
       "    <tr>\n",
       "      <th>...</th>\n",
       "      <td>...</td>\n",
       "      <td>...</td>\n",
       "      <td>...</td>\n",
       "      <td>...</td>\n",
       "      <td>...</td>\n",
       "      <td>...</td>\n",
       "      <td>...</td>\n",
       "      <td>...</td>\n",
       "      <td>...</td>\n",
       "      <td>...</td>\n",
       "      <td>...</td>\n",
       "      <td>...</td>\n",
       "    </tr>\n",
       "    <tr>\n",
       "      <th>31604</th>\n",
       "      <td>66031.0</td>\n",
       "      <td>for_sale</td>\n",
       "      <td>110000.0</td>\n",
       "      <td>NaN</td>\n",
       "      <td>NaN</td>\n",
       "      <td>1.00</td>\n",
       "      <td>1971077.0</td>\n",
       "      <td>Sandy River Plt</td>\n",
       "      <td>Maine</td>\n",
       "      <td>4970.0</td>\n",
       "      <td>NaN</td>\n",
       "      <td>NaN</td>\n",
       "    </tr>\n",
       "    <tr>\n",
       "      <th>31605</th>\n",
       "      <td>66031.0</td>\n",
       "      <td>for_sale</td>\n",
       "      <td>315000.0</td>\n",
       "      <td>NaN</td>\n",
       "      <td>NaN</td>\n",
       "      <td>4.00</td>\n",
       "      <td>1272450.0</td>\n",
       "      <td>Sandy River Plt</td>\n",
       "      <td>Maine</td>\n",
       "      <td>4970.0</td>\n",
       "      <td>NaN</td>\n",
       "      <td>NaN</td>\n",
       "    </tr>\n",
       "    <tr>\n",
       "      <th>31606</th>\n",
       "      <td>53222.0</td>\n",
       "      <td>for_sale</td>\n",
       "      <td>290000.0</td>\n",
       "      <td>NaN</td>\n",
       "      <td>NaN</td>\n",
       "      <td>2.40</td>\n",
       "      <td>1855856.0</td>\n",
       "      <td>Dallas Plt</td>\n",
       "      <td>Maine</td>\n",
       "      <td>4970.0</td>\n",
       "      <td>NaN</td>\n",
       "      <td>NaN</td>\n",
       "    </tr>\n",
       "    <tr>\n",
       "      <th>31607</th>\n",
       "      <td>66031.0</td>\n",
       "      <td>for_sale</td>\n",
       "      <td>119000.0</td>\n",
       "      <td>NaN</td>\n",
       "      <td>NaN</td>\n",
       "      <td>2.80</td>\n",
       "      <td>1876925.0</td>\n",
       "      <td>Sandy River Plt</td>\n",
       "      <td>Maine</td>\n",
       "      <td>4970.0</td>\n",
       "      <td>NaN</td>\n",
       "      <td>NaN</td>\n",
       "    </tr>\n",
       "    <tr>\n",
       "      <th>31608</th>\n",
       "      <td>66031.0</td>\n",
       "      <td>for_sale</td>\n",
       "      <td>145000.0</td>\n",
       "      <td>NaN</td>\n",
       "      <td>NaN</td>\n",
       "      <td>3.60</td>\n",
       "      <td>1836894.0</td>\n",
       "      <td>Rangeley Plt</td>\n",
       "      <td>Maine</td>\n",
       "      <td>4970.0</td>\n",
       "      <td>NaN</td>\n",
       "      <td>NaN</td>\n",
       "    </tr>\n",
       "  </tbody>\n",
       "</table>\n",
       "<p>31609 rows × 12 columns</p>\n",
       "</div>"
      ],
      "text/plain": [
       "       brokered_by    status     price  bed  bath  acre_lot     street  \\\n",
       "0         103378.0  for_sale  105000.0  3.0   2.0      0.12  1962661.0   \n",
       "1          52707.0  for_sale   80000.0  4.0   2.0      0.08  1902874.0   \n",
       "2         103379.0  for_sale   67000.0  2.0   1.0      0.15  1404990.0   \n",
       "3          31239.0  for_sale  145000.0  4.0   2.0      0.10  1947675.0   \n",
       "4          34632.0  for_sale   65000.0  6.0   2.0      0.05   331151.0   \n",
       "...            ...       ...       ...  ...   ...       ...        ...   \n",
       "31604      66031.0  for_sale  110000.0  NaN   NaN      1.00  1971077.0   \n",
       "31605      66031.0  for_sale  315000.0  NaN   NaN      4.00  1272450.0   \n",
       "31606      53222.0  for_sale  290000.0  NaN   NaN      2.40  1855856.0   \n",
       "31607      66031.0  for_sale  119000.0  NaN   NaN      2.80  1876925.0   \n",
       "31608      66031.0  for_sale  145000.0  NaN   NaN      3.60  1836894.0   \n",
       "\n",
       "                  city        state  zip_code  house_size prev_sold_date  \n",
       "0             Adjuntas  Puerto Rico     601.0       920.0            NaN  \n",
       "1             Adjuntas  Puerto Rico     601.0      1527.0            NaN  \n",
       "2           Juana Diaz  Puerto Rico     795.0       748.0            NaN  \n",
       "3                Ponce  Puerto Rico     731.0      1800.0            NaN  \n",
       "4             Mayaguez  Puerto Rico     680.0         NaN            NaN  \n",
       "...                ...          ...       ...         ...            ...  \n",
       "31604  Sandy River Plt        Maine    4970.0         NaN            NaN  \n",
       "31605  Sandy River Plt        Maine    4970.0         NaN            NaN  \n",
       "31606       Dallas Plt        Maine    4970.0         NaN            NaN  \n",
       "31607  Sandy River Plt        Maine    4970.0         NaN            NaN  \n",
       "31608     Rangeley Plt        Maine    4970.0         NaN            NaN  \n",
       "\n",
       "[31609 rows x 12 columns]"
      ]
     },
     "execution_count": 2,
     "metadata": {},
     "output_type": "execute_result"
    }
   ],
   "source": [
    "reality = pd.read_csv(\"data/reality.csv\")\n",
    "reality"
   ]
  },
  {
   "cell_type": "code",
   "execution_count": 3,
   "metadata": {},
   "outputs": [
    {
     "name": "stdout",
     "output_type": "stream",
     "text": [
      "<class 'pandas.core.frame.DataFrame'>\n",
      "RangeIndex: 31609 entries, 0 to 31608\n",
      "Data columns (total 12 columns):\n",
      " #   Column          Non-Null Count  Dtype  \n",
      "---  ------          --------------  -----  \n",
      " 0   brokered_by     31603 non-null  float64\n",
      " 1   status          31609 non-null  object \n",
      " 2   price           31609 non-null  float64\n",
      " 3   bed             23275 non-null  float64\n",
      " 4   bath            23314 non-null  float64\n",
      " 5   acre_lot        26893 non-null  float64\n",
      " 6   street          31536 non-null  float64\n",
      " 7   city            31593 non-null  object \n",
      " 8   state           31609 non-null  object \n",
      " 9   zip_code        31581 non-null  float64\n",
      " 10  house_size      23445 non-null  float64\n",
      " 11  prev_sold_date  10114 non-null  object \n",
      "dtypes: float64(8), object(4)\n",
      "memory usage: 2.9+ MB\n"
     ]
    }
   ],
   "source": [
    "reality.info()"
   ]
  },
  {
   "cell_type": "code",
   "execution_count": 4,
   "metadata": {},
   "outputs": [
    {
     "data": {
      "text/html": [
       "<div>\n",
       "<style scoped>\n",
       "    .dataframe tbody tr th:only-of-type {\n",
       "        vertical-align: middle;\n",
       "    }\n",
       "\n",
       "    .dataframe tbody tr th {\n",
       "        vertical-align: top;\n",
       "    }\n",
       "\n",
       "    .dataframe thead th {\n",
       "        text-align: right;\n",
       "    }\n",
       "</style>\n",
       "<table border=\"1\" class=\"dataframe\">\n",
       "  <thead>\n",
       "    <tr style=\"text-align: right;\">\n",
       "      <th></th>\n",
       "      <th>brokered_by</th>\n",
       "      <th>price</th>\n",
       "      <th>bed</th>\n",
       "      <th>bath</th>\n",
       "      <th>acre_lot</th>\n",
       "      <th>street</th>\n",
       "      <th>zip_code</th>\n",
       "      <th>house_size</th>\n",
       "    </tr>\n",
       "  </thead>\n",
       "  <tbody>\n",
       "    <tr>\n",
       "      <th>count</th>\n",
       "      <td>31603.000000</td>\n",
       "      <td>3.160900e+04</td>\n",
       "      <td>23275.000000</td>\n",
       "      <td>23314.000000</td>\n",
       "      <td>26893.000000</td>\n",
       "      <td>3.153600e+04</td>\n",
       "      <td>31581.000000</td>\n",
       "      <td>2.344500e+04</td>\n",
       "    </tr>\n",
       "    <tr>\n",
       "      <th>mean</th>\n",
       "      <td>51389.449261</td>\n",
       "      <td>6.497414e+05</td>\n",
       "      <td>3.484425</td>\n",
       "      <td>2.563095</td>\n",
       "      <td>21.416199</td>\n",
       "      <td>1.083364e+06</td>\n",
       "      <td>3482.506222</td>\n",
       "      <td>2.267156e+03</td>\n",
       "    </tr>\n",
       "    <tr>\n",
       "      <th>std</th>\n",
       "      <td>31962.980607</td>\n",
       "      <td>1.317486e+06</td>\n",
       "      <td>2.132493</td>\n",
       "      <td>2.109958</td>\n",
       "      <td>1070.037990</td>\n",
       "      <td>6.126989e+05</td>\n",
       "      <td>2433.770068</td>\n",
       "      <td>9.690166e+03</td>\n",
       "    </tr>\n",
       "    <tr>\n",
       "      <th>min</th>\n",
       "      <td>56.000000</td>\n",
       "      <td>1.000000e+00</td>\n",
       "      <td>1.000000</td>\n",
       "      <td>1.000000</td>\n",
       "      <td>0.000000</td>\n",
       "      <td>4.000000e+00</td>\n",
       "      <td>601.000000</td>\n",
       "      <td>1.000000e+02</td>\n",
       "    </tr>\n",
       "    <tr>\n",
       "      <th>25%</th>\n",
       "      <td>22611.000000</td>\n",
       "      <td>1.750000e+05</td>\n",
       "      <td>2.000000</td>\n",
       "      <td>2.000000</td>\n",
       "      <td>0.230000</td>\n",
       "      <td>5.609278e+05</td>\n",
       "      <td>2026.000000</td>\n",
       "      <td>1.210000e+03</td>\n",
       "    </tr>\n",
       "    <tr>\n",
       "      <th>50%</th>\n",
       "      <td>52612.000000</td>\n",
       "      <td>3.500000e+05</td>\n",
       "      <td>3.000000</td>\n",
       "      <td>2.000000</td>\n",
       "      <td>0.680000</td>\n",
       "      <td>1.118038e+06</td>\n",
       "      <td>2895.000000</td>\n",
       "      <td>1.750000e+03</td>\n",
       "    </tr>\n",
       "    <tr>\n",
       "      <th>75%</th>\n",
       "      <td>79077.000000</td>\n",
       "      <td>6.499000e+05</td>\n",
       "      <td>4.000000</td>\n",
       "      <td>3.000000</td>\n",
       "      <td>2.450000</td>\n",
       "      <td>1.651030e+06</td>\n",
       "      <td>4627.000000</td>\n",
       "      <td>2.600000e+03</td>\n",
       "    </tr>\n",
       "    <tr>\n",
       "      <th>max</th>\n",
       "      <td>110138.000000</td>\n",
       "      <td>6.000000e+07</td>\n",
       "      <td>99.000000</td>\n",
       "      <td>198.000000</td>\n",
       "      <td>100000.000000</td>\n",
       "      <td>2.001321e+06</td>\n",
       "      <td>99999.000000</td>\n",
       "      <td>1.450112e+06</td>\n",
       "    </tr>\n",
       "  </tbody>\n",
       "</table>\n",
       "</div>"
      ],
      "text/plain": [
       "         brokered_by         price           bed          bath       acre_lot  \\\n",
       "count   31603.000000  3.160900e+04  23275.000000  23314.000000   26893.000000   \n",
       "mean    51389.449261  6.497414e+05      3.484425      2.563095      21.416199   \n",
       "std     31962.980607  1.317486e+06      2.132493      2.109958    1070.037990   \n",
       "min        56.000000  1.000000e+00      1.000000      1.000000       0.000000   \n",
       "25%     22611.000000  1.750000e+05      2.000000      2.000000       0.230000   \n",
       "50%     52612.000000  3.500000e+05      3.000000      2.000000       0.680000   \n",
       "75%     79077.000000  6.499000e+05      4.000000      3.000000       2.450000   \n",
       "max    110138.000000  6.000000e+07     99.000000    198.000000  100000.000000   \n",
       "\n",
       "             street      zip_code    house_size  \n",
       "count  3.153600e+04  31581.000000  2.344500e+04  \n",
       "mean   1.083364e+06   3482.506222  2.267156e+03  \n",
       "std    6.126989e+05   2433.770068  9.690166e+03  \n",
       "min    4.000000e+00    601.000000  1.000000e+02  \n",
       "25%    5.609278e+05   2026.000000  1.210000e+03  \n",
       "50%    1.118038e+06   2895.000000  1.750000e+03  \n",
       "75%    1.651030e+06   4627.000000  2.600000e+03  \n",
       "max    2.001321e+06  99999.000000  1.450112e+06  "
      ]
     },
     "execution_count": 4,
     "metadata": {},
     "output_type": "execute_result"
    }
   ],
   "source": [
    "reality.describe()"
   ]
  },
  {
   "cell_type": "code",
   "execution_count": 15,
   "metadata": {},
   "outputs": [
    {
     "data": {
      "text/plain": [
       "0        105000.0\n",
       "1         80000.0\n",
       "2         67000.0\n",
       "3        145000.0\n",
       "4         65000.0\n",
       "           ...   \n",
       "31604    110000.0\n",
       "31605    315000.0\n",
       "31606    290000.0\n",
       "31607    119000.0\n",
       "31608    145000.0\n",
       "Name: price, Length: 31609, dtype: float64"
      ]
     },
     "execution_count": 15,
     "metadata": {},
     "output_type": "execute_result"
    }
   ],
   "source": [
    "prices = reality[\"price\"]\n",
    "prices"
   ]
  },
  {
   "cell_type": "code",
   "execution_count": 12,
   "metadata": {},
   "outputs": [
    {
     "data": {
      "text/plain": [
       "np.float64(20537676792.0)"
      ]
     },
     "execution_count": 12,
     "metadata": {},
     "output_type": "execute_result"
    }
   ],
   "source": [
    "prices.sum()"
   ]
  },
  {
   "cell_type": "code",
   "execution_count": 13,
   "metadata": {},
   "outputs": [
    {
     "data": {
      "text/plain": [
       "np.float64(649741.4278211902)"
      ]
     },
     "execution_count": 13,
     "metadata": {},
     "output_type": "execute_result"
    }
   ],
   "source": [
    "prices.mean()"
   ]
  },
  {
   "cell_type": "code",
   "execution_count": 16,
   "metadata": {},
   "outputs": [
    {
     "data": {
      "text/plain": [
       "0        for_sale\n",
       "1        for_sale\n",
       "2        for_sale\n",
       "3        for_sale\n",
       "4        for_sale\n",
       "           ...   \n",
       "31604    for_sale\n",
       "31605    for_sale\n",
       "31606    for_sale\n",
       "31607    for_sale\n",
       "31608    for_sale\n",
       "Name: status, Length: 31609, dtype: object"
      ]
     },
     "execution_count": 16,
     "metadata": {},
     "output_type": "execute_result"
    }
   ],
   "source": [
    "status = reality[\"status\"]\n",
    "status"
   ]
  },
  {
   "cell_type": "code",
   "execution_count": 17,
   "metadata": {},
   "outputs": [
    {
     "data": {
      "text/plain": [
       "status\n",
       "for_sale          31568\n",
       "ready_to_build       41\n",
       "Name: count, dtype: int64"
      ]
     },
     "execution_count": 17,
     "metadata": {},
     "output_type": "execute_result"
    }
   ],
   "source": [
    "status.value_counts()"
   ]
  },
  {
   "cell_type": "code",
   "execution_count": 18,
   "metadata": {},
   "outputs": [
    {
     "data": {
      "text/plain": [
       "0        Puerto Rico\n",
       "1        Puerto Rico\n",
       "2        Puerto Rico\n",
       "3        Puerto Rico\n",
       "4        Puerto Rico\n",
       "            ...     \n",
       "31604          Maine\n",
       "31605          Maine\n",
       "31606          Maine\n",
       "31607          Maine\n",
       "31608          Maine\n",
       "Name: state, Length: 31609, dtype: object"
      ]
     },
     "execution_count": 18,
     "metadata": {},
     "output_type": "execute_result"
    }
   ],
   "source": [
    "states = reality[\"state\"]\n",
    "states"
   ]
  },
  {
   "cell_type": "code",
   "execution_count": 19,
   "metadata": {},
   "outputs": [
    {
     "data": {
      "text/plain": [
       "state\n",
       "Massachusetts     10188\n",
       "Maine              5012\n",
       "Connecticut        4455\n",
       "New Hampshire      3562\n",
       "Rhode Island       3417\n",
       "Puerto Rico        2664\n",
       "New York            866\n",
       "Virgin Islands      750\n",
       "Vermont             689\n",
       "Virginia              2\n",
       "Tennessee             1\n",
       "South Carolina        1\n",
       "New Jersey            1\n",
       "Wyoming               1\n",
       "Name: count, dtype: int64"
      ]
     },
     "execution_count": 19,
     "metadata": {},
     "output_type": "execute_result"
    }
   ],
   "source": [
    "states.value_counts()"
   ]
  },
  {
   "cell_type": "code",
   "execution_count": 21,
   "metadata": {},
   "outputs": [
    {
     "data": {
      "text/plain": [
       "state\n",
       "Massachusetts     32.231327\n",
       "Maine             15.856243\n",
       "Connecticut       14.094087\n",
       "New Hampshire     11.268942\n",
       "Rhode Island      10.810212\n",
       "Puerto Rico        8.427979\n",
       "New York           2.739726\n",
       "Virgin Islands     2.372742\n",
       "Vermont            2.179759\n",
       "Virginia           0.006327\n",
       "Tennessee          0.003164\n",
       "South Carolina     0.003164\n",
       "New Jersey         0.003164\n",
       "Wyoming            0.003164\n",
       "Name: proportion, dtype: float64"
      ]
     },
     "execution_count": 21,
     "metadata": {},
     "output_type": "execute_result"
    }
   ],
   "source": [
    "states.value_counts(normalize=True) * 100"
   ]
  },
  {
   "cell_type": "code",
   "execution_count": 22,
   "metadata": {},
   "outputs": [
    {
     "data": {
      "text/plain": [
       "14957           1.0\n",
       "18978           1.0\n",
       "24950         385.0\n",
       "24917         385.0\n",
       "6770          445.0\n",
       "            ...    \n",
       "20279    26500000.0\n",
       "20271    28000000.0\n",
       "20534    30000000.0\n",
       "22453    39500000.0\n",
       "7058     60000000.0\n",
       "Name: price, Length: 31609, dtype: float64"
      ]
     },
     "execution_count": 22,
     "metadata": {},
     "output_type": "execute_result"
    }
   ],
   "source": [
    "prices.sort_values()"
   ]
  },
  {
   "cell_type": "code",
   "execution_count": 23,
   "metadata": {},
   "outputs": [
    {
     "data": {
      "text/plain": [
       "count    3.160900e+04\n",
       "mean     6.497414e+05\n",
       "std      1.317486e+06\n",
       "min      1.000000e+00\n",
       "25%      1.750000e+05\n",
       "50%      3.500000e+05\n",
       "75%      6.499000e+05\n",
       "max      6.000000e+07\n",
       "Name: price, dtype: float64"
      ]
     },
     "execution_count": 23,
     "metadata": {},
     "output_type": "execute_result"
    }
   ],
   "source": [
    "prices.describe()"
   ]
  },
  {
   "cell_type": "code",
   "execution_count": 24,
   "metadata": {},
   "outputs": [
    {
     "data": {
      "text/plain": [
       "0        105000.0\n",
       "1         80000.0\n",
       "2         67000.0\n",
       "3        145000.0\n",
       "4         65000.0\n",
       "           ...   \n",
       "31604    110000.0\n",
       "31605    315000.0\n",
       "31606    290000.0\n",
       "31607    119000.0\n",
       "31608    145000.0\n",
       "Name: price, Length: 31609, dtype: float64"
      ]
     },
     "execution_count": 24,
     "metadata": {},
     "output_type": "execute_result"
    }
   ],
   "source": [
    "prices"
   ]
  },
  {
   "cell_type": "code",
   "execution_count": 27,
   "metadata": {},
   "outputs": [
    {
     "data": {
      "text/plain": [
       "price\n",
       "nízká cena          27775\n",
       "střední cena         2960\n",
       "průměrná cena         768\n",
       "nadprůměrná cena      106\n",
       "Name: count, dtype: int64"
      ]
     },
     "execution_count": 27,
     "metadata": {},
     "output_type": "execute_result"
    }
   ],
   "source": [
    "def price_status(one_price):\n",
    "    if one_price <= 1000000:\n",
    "        return \"nízká cena\"\n",
    "    elif 1000000 < one_price <= 3000000:\n",
    "        return \"střední cena\"\n",
    "    elif 3000000 < one_price <= 10000000:\n",
    "        return \"průměrná cena\"\n",
    "    else:\n",
    "        return \"nadprůměrná cena\"\n",
    "\n",
    "prices.apply(price_status).value_counts()\n",
    "\n"
   ]
  },
  {
   "cell_type": "code",
   "execution_count": 29,
   "metadata": {},
   "outputs": [
    {
     "data": {
      "text/plain": [
       "state\n",
       "Massachusetts     10188\n",
       "Maine              5012\n",
       "Connecticut        4455\n",
       "New Hampshire      3562\n",
       "Rhode Island       3417\n",
       "Puerto Rico        2664\n",
       "New York            866\n",
       "Virgin Islands      750\n",
       "Vermont             689\n",
       "Virginia              2\n",
       "Tennessee             1\n",
       "South Carolina        1\n",
       "New Jersey            1\n",
       "Wyoming               1\n",
       "Name: count, dtype: int64"
      ]
     },
     "execution_count": 29,
     "metadata": {},
     "output_type": "execute_result"
    }
   ],
   "source": [
    "states.value_counts()"
   ]
  },
  {
   "cell_type": "code",
   "execution_count": 30,
   "metadata": {},
   "outputs": [],
   "source": [
    "state_black_list = pd.Series({\n",
    "    'New Jersey': 'critical',\n",
    "    'South Carolina': 'critical',\n",
    "    'Vermont': 'critical',\n",
    "    'Virginia': 'extra critical'\n",
    "})\n"
   ]
  },
  {
   "cell_type": "code",
   "execution_count": 34,
   "metadata": {},
   "outputs": [
    {
     "data": {
      "text/plain": [
       "state\n",
       "critical          691\n",
       "extra critical      2\n",
       "Name: count, dtype: int64"
      ]
     },
     "execution_count": 34,
     "metadata": {},
     "output_type": "execute_result"
    }
   ],
   "source": [
    "states.map(state_black_list).dropna().value_counts()"
   ]
  },
  {
   "cell_type": "code",
   "execution_count": null,
   "metadata": {},
   "outputs": [],
   "source": []
  }
 ],
 "metadata": {
  "kernelspec": {
   "display_name": "Python 3",
   "language": "python",
   "name": "python3"
  },
  "language_info": {
   "codemirror_mode": {
    "name": "ipython",
    "version": 3
   },
   "file_extension": ".py",
   "mimetype": "text/x-python",
   "name": "python",
   "nbconvert_exporter": "python",
   "pygments_lexer": "ipython3",
   "version": "3.12.5"
  }
 },
 "nbformat": 4,
 "nbformat_minor": 2
}
