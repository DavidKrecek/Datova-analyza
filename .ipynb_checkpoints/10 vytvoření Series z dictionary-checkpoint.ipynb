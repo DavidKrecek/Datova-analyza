{
 "cells": [
  {
   "cell_type": "code",
   "execution_count": 1,
   "id": "ea968b3b-78f4-4b05-b48d-920609168115",
   "metadata": {},
   "outputs": [],
   "source": [
    "import pandas as pd"
   ]
  },
  {
   "cell_type": "code",
   "execution_count": 2,
   "id": "78251790-9d05-45f1-8576-dd87cf360225",
   "metadata": {},
   "outputs": [],
   "source": [
    "fruit_colors = {\n",
    "    \"jablko\": \"červená\",\n",
    "    \"banán\": \"žlutá\",\n",
    "    \"kiwi\": \"hnědá\",\n",
    "    \"pomeranč\": \"oranžová\"    \n",
    "}"
   ]
  },
  {
   "cell_type": "code",
   "execution_count": 4,
   "id": "3384eaa4-06c5-43b2-8895-72551d2ee382",
   "metadata": {},
   "outputs": [],
   "source": [
    "fruit_color_s = pd.Series(fruit_colors)"
   ]
  },
  {
   "cell_type": "code",
   "execution_count": 5,
   "id": "24a7f4d7-9946-42cc-b292-55d93a994b2d",
   "metadata": {},
   "outputs": [
    {
     "data": {
      "text/plain": [
       "jablko       červená\n",
       "banán          žlutá\n",
       "kiwi           hnědá\n",
       "pomeranč    oranžová\n",
       "dtype: object"
      ]
     },
     "execution_count": 5,
     "metadata": {},
     "output_type": "execute_result"
    }
   ],
   "source": [
    "fruit_color_s"
   ]
  },
  {
   "cell_type": "code",
   "execution_count": null,
   "id": "46505579-119d-462c-a51b-a85a2530d36a",
   "metadata": {},
   "outputs": [],
   "source": []
  }
 ],
 "metadata": {
  "kernelspec": {
   "display_name": "Python 3 (ipykernel)",
   "language": "python",
   "name": "python3"
  },
  "language_info": {
   "codemirror_mode": {
    "name": "ipython",
    "version": 3
   },
   "file_extension": ".py",
   "mimetype": "text/x-python",
   "name": "python",
   "nbconvert_exporter": "python",
   "pygments_lexer": "ipython3",
   "version": "3.12.5"
  }
 },
 "nbformat": 4,
 "nbformat_minor": 5
}
