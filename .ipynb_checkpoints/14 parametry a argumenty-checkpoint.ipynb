{
 "cells": [
  {
   "cell_type": "code",
   "execution_count": 1,
   "id": "4e5f2702-224c-496f-bee6-0621a49c9756",
   "metadata": {},
   "outputs": [],
   "source": [
    "import pandas as pd"
   ]
  },
  {
   "cell_type": "markdown",
   "id": "bb1dd68d-89ce-4c2c-a082-bc8a8f7a98af",
   "metadata": {},
   "source": [
    "## 2 listy - počty hodnot jsou stejné"
   ]
  },
  {
   "cell_type": "code",
   "execution_count": 2,
   "id": "69712193-b19e-4e7a-bc23-571d7087c86e",
   "metadata": {},
   "outputs": [],
   "source": [
    "days = ['po', 'út', 'st', 'čt', 'pá']\n",
    "tasks = ['uklidit', 'vynést koš', 'python', 'pandas', 'javascript']"
   ]
  },
  {
   "cell_type": "code",
   "execution_count": 3,
   "id": "45a29210-5634-48b6-b2b3-27fc605c4c60",
   "metadata": {},
   "outputs": [
    {
     "data": {
      "text/plain": [
       "uklidit       po\n",
       "vynést koš    út\n",
       "python        st\n",
       "pandas        čt\n",
       "javascript    pá\n",
       "dtype: object"
      ]
     },
     "execution_count": 3,
     "metadata": {},
     "output_type": "execute_result"
    }
   ],
   "source": [
    "pd.Series(days, tasks)"
   ]
  },
  {
   "cell_type": "code",
   "execution_count": 4,
   "id": "461b7707-aea9-4f03-a9ec-f8b4dfceb253",
   "metadata": {},
   "outputs": [
    {
     "data": {
      "text/plain": [
       "po       uklidit\n",
       "út    vynést koš\n",
       "st        python\n",
       "čt        pandas\n",
       "pá    javascript\n",
       "dtype: object"
      ]
     },
     "execution_count": 4,
     "metadata": {},
     "output_type": "execute_result"
    }
   ],
   "source": [
    "pd.Series(tasks, days)"
   ]
  },
  {
   "cell_type": "code",
   "execution_count": 5,
   "id": "45f729f8-43db-41c8-91f3-8ac057747eb0",
   "metadata": {},
   "outputs": [
    {
     "data": {
      "text/plain": [
       "po       uklidit\n",
       "út    vynést koš\n",
       "st        python\n",
       "čt        pandas\n",
       "pá    javascript\n",
       "dtype: object"
      ]
     },
     "execution_count": 5,
     "metadata": {},
     "output_type": "execute_result"
    }
   ],
   "source": [
    "pd.Series(data= tasks, index=days)"
   ]
  },
  {
   "cell_type": "code",
   "execution_count": 6,
   "id": "0b75a2d3-960a-4ec6-9140-41619247e91f",
   "metadata": {},
   "outputs": [
    {
     "data": {
      "text/plain": [
       "po       uklidit\n",
       "út    vynést koš\n",
       "st        python\n",
       "čt        pandas\n",
       "pá    javascript\n",
       "dtype: object"
      ]
     },
     "execution_count": 6,
     "metadata": {},
     "output_type": "execute_result"
    }
   ],
   "source": [
    "pd.Series(tasks, index=days)"
   ]
  },
  {
   "cell_type": "code",
   "execution_count": null,
   "id": "554e7c44-c7a7-4a05-a5bc-f4488f574889",
   "metadata": {},
   "outputs": [],
   "source": []
  }
 ],
 "metadata": {
  "kernelspec": {
   "display_name": "Python 3 (ipykernel)",
   "language": "python",
   "name": "python3"
  },
  "language_info": {
   "codemirror_mode": {
    "name": "ipython",
    "version": 3
   },
   "file_extension": ".py",
   "mimetype": "text/x-python",
   "name": "python",
   "nbconvert_exporter": "python",
   "pygments_lexer": "ipython3",
   "version": "3.12.5"
  }
 },
 "nbformat": 4,
 "nbformat_minor": 5
}
