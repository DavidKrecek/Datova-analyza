{
 "cells": [
  {
   "cell_type": "code",
   "execution_count": 1,
   "id": "22c0e29a-2cf1-40e1-bdb4-c91b61bb4775",
   "metadata": {},
   "outputs": [],
   "source": [
    "import pandas as pd"
   ]
  },
  {
   "cell_type": "code",
   "execution_count": 2,
   "id": "4d13ea7d-184c-4c0d-8468-c74a25c8bc0e",
   "metadata": {},
   "outputs": [],
   "source": [
    "country_population = {\n",
    "    \"Česká republika\": 10.7,\n",
    "    \"Slovensko\": 5.4,\n",
    "    \"Německo\": 83,\n",
    "    \"Polsko\": 38\n",
    "}"
   ]
  },
  {
   "cell_type": "code",
   "execution_count": 3,
   "id": "cff6c9c5-8529-4cd6-a5ff-f580969380b0",
   "metadata": {},
   "outputs": [],
   "source": [
    "technology_list = [\"smartphone\", \"laptop\", \"dron\", \"virtuální realita\", \"3D tiskárna\"]"
   ]
  },
  {
   "cell_type": "markdown",
   "id": "48e011d6-9136-4966-b690-03510d8cf29e",
   "metadata": {},
   "source": [
    "## Řešení"
   ]
  },
  {
   "cell_type": "code",
   "execution_count": 4,
   "id": "2a5b2c25-79a4-4be5-b297-95396cef69fa",
   "metadata": {},
   "outputs": [],
   "source": [
    "instrument_list = [\"klavír\", \"kytara\", \"bicí\", \"trubka\", \"flétna\"]"
   ]
  },
  {
   "cell_type": "code",
   "execution_count": 5,
   "id": "8d202fac-03ac-4399-b0ad-b2a57f19995a",
   "metadata": {},
   "outputs": [
    {
     "data": {
      "text/plain": [
       "Česká republika    10.7\n",
       "Slovensko           5.4\n",
       "Německo            83.0\n",
       "Polsko             38.0\n",
       "dtype: float64"
      ]
     },
     "execution_count": 5,
     "metadata": {},
     "output_type": "execute_result"
    }
   ],
   "source": [
    "country_population_s = pd.Series(country_population)\n",
    "country_population_s"
   ]
  },
  {
   "cell_type": "code",
   "execution_count": 6,
   "id": "84ced567-8297-4f6a-be40-af63c323e9e4",
   "metadata": {},
   "outputs": [
    {
     "data": {
      "text/plain": [
       "0           smartphone\n",
       "1               laptop\n",
       "2                 dron\n",
       "3    virtuální realita\n",
       "4          3D tiskárna\n",
       "dtype: object"
      ]
     },
     "execution_count": 6,
     "metadata": {},
     "output_type": "execute_result"
    }
   ],
   "source": [
    "technology_list_s = pd.Series(technology_list)\n",
    "technology_list_s"
   ]
  },
  {
   "cell_type": "code",
   "execution_count": 7,
   "id": "9983029a-e1d3-49fd-9b09-ffa066cdda33",
   "metadata": {},
   "outputs": [
    {
     "data": {
      "text/plain": [
       "0    klavír\n",
       "1    kytara\n",
       "2      bicí\n",
       "3    trubka\n",
       "4    flétna\n",
       "dtype: object"
      ]
     },
     "execution_count": 7,
     "metadata": {},
     "output_type": "execute_result"
    }
   ],
   "source": [
    "instrument_list_s = pd.Series(instrument_list)\n",
    "instrument_list_s"
   ]
  },
  {
   "cell_type": "code",
   "execution_count": null,
   "id": "8f73fe35-4ab2-42b4-a474-2be04e982d16",
   "metadata": {},
   "outputs": [],
   "source": []
  }
 ],
 "metadata": {
  "kernelspec": {
   "display_name": "Python 3 (ipykernel)",
   "language": "python",
   "name": "python3"
  },
  "language_info": {
   "codemirror_mode": {
    "name": "ipython",
    "version": 3
   },
   "file_extension": ".py",
   "mimetype": "text/x-python",
   "name": "python",
   "nbconvert_exporter": "python",
   "pygments_lexer": "ipython3",
   "version": "3.12.5"
  }
 },
 "nbformat": 4,
 "nbformat_minor": 5
}
