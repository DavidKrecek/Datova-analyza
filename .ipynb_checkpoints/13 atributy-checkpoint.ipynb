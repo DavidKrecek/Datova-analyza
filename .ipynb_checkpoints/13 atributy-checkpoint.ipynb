{
 "cells": [
  {
   "cell_type": "code",
   "execution_count": 1,
   "id": "1abf9b05-b752-42c9-adad-1f8b45ae5cde",
   "metadata": {},
   "outputs": [],
   "source": [
    "import pandas as pd"
   ]
  },
  {
   "cell_type": "code",
   "execution_count": 6,
   "id": "b1fe1097-e1e3-4fc2-8608-5527c3b0546b",
   "metadata": {},
   "outputs": [
    {
     "data": {
      "text/plain": [
       "0           smartphone\n",
       "1               laptop\n",
       "2                 dron\n",
       "3    virtuální realita\n",
       "dtype: object"
      ]
     },
     "execution_count": 6,
     "metadata": {},
     "output_type": "execute_result"
    }
   ],
   "source": [
    "technology_list = ['smartphone', 'laptop', 'dron', 'virtuální realita']\n",
    "technology_list_s = pd.Series(technology_list)\n",
    "technology_list_s"
   ]
  },
  {
   "cell_type": "code",
   "execution_count": 8,
   "id": "85626d02-5073-4240-b35e-8a2c522be465",
   "metadata": {},
   "outputs": [
    {
     "data": {
      "text/plain": [
       "0    1\n",
       "1    1\n",
       "2    0\n",
       "3    2\n",
       "dtype: int64"
      ]
     },
     "execution_count": 8,
     "metadata": {},
     "output_type": "execute_result"
    }
   ],
   "source": [
    "technology_list_s.str.count(\"a\")"
   ]
  },
  {
   "cell_type": "code",
   "execution_count": 9,
   "id": "6e8f8a6e-48ab-430e-9234-4038773f716c",
   "metadata": {},
   "outputs": [
    {
     "data": {
      "text/plain": [
       "4"
      ]
     },
     "execution_count": 9,
     "metadata": {},
     "output_type": "execute_result"
    }
   ],
   "source": [
    "technology_list_s.size"
   ]
  },
  {
   "cell_type": "code",
   "execution_count": 12,
   "id": "0ac4862c-de6a-4a45-b14b-10cdec560240",
   "metadata": {},
   "outputs": [
    {
     "data": {
      "text/plain": [
       "True"
      ]
     },
     "execution_count": 12,
     "metadata": {},
     "output_type": "execute_result"
    }
   ],
   "source": [
    "technology_list_s.is_unique"
   ]
  },
  {
   "cell_type": "code",
   "execution_count": 15,
   "id": "5936eca2-2ab7-4f41-b8c1-0eaaa1b511b6",
   "metadata": {},
   "outputs": [
    {
     "data": {
      "text/plain": [
       "array(['smartphone', 'laptop', 'dron', 'virtuální realita'], dtype=object)"
      ]
     },
     "execution_count": 15,
     "metadata": {},
     "output_type": "execute_result"
    }
   ],
   "source": [
    "technology_list_s.values"
   ]
  },
  {
   "cell_type": "code",
   "execution_count": 17,
   "id": "9b9c5324-8210-4a5b-a7e7-729c02a87fa0",
   "metadata": {},
   "outputs": [
    {
     "data": {
      "text/plain": [
       "RangeIndex(start=0, stop=4, step=1)"
      ]
     },
     "execution_count": 17,
     "metadata": {},
     "output_type": "execute_result"
    }
   ],
   "source": [
    "technology_list_s.index"
   ]
  },
  {
   "cell_type": "code",
   "execution_count": null,
   "id": "d2c5186c-4dfd-443b-8192-dacb37c5c195",
   "metadata": {},
   "outputs": [],
   "source": []
  }
 ],
 "metadata": {
  "kernelspec": {
   "display_name": "Python 3 (ipykernel)",
   "language": "python",
   "name": "python3"
  },
  "language_info": {
   "codemirror_mode": {
    "name": "ipython",
    "version": 3
   },
   "file_extension": ".py",
   "mimetype": "text/x-python",
   "name": "python",
   "nbconvert_exporter": "python",
   "pygments_lexer": "ipython3",
   "version": "3.12.5"
  }
 },
 "nbformat": 4,
 "nbformat_minor": 5
}
