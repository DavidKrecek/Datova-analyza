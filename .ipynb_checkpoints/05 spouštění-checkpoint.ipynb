{
 "cells": [
  {
   "cell_type": "code",
   "execution_count": null,
   "id": "408ffa86-a0e2-47c2-bb0c-89bdc3459aab",
   "metadata": {},
   "outputs": [],
   "source": [
    "5 + 2\n",
    "1 + 100\n",
    "100 + 100\n",
    "\n",
    "\n"
   ]
  },
  {
   "cell_type": "code",
   "execution_count": null,
   "id": "0021e167-6448-4612-b792-cdf5def727ce",
   "metadata": {},
   "outputs": [],
   "source": [
    "1+2"
   ]
  },
  {
   "cell_type": "code",
   "execution_count": null,
   "id": "773bd9da-9f0e-487f-aa1a-99dc10c0f82b",
   "metadata": {},
   "outputs": [],
   "source": []
  },
  {
   "cell_type": "code",
   "execution_count": null,
   "id": "211d05a2-fc5f-47ba-a3b9-240cb5635d7f",
   "metadata": {},
   "outputs": [],
   "source": [
    "5+5"
   ]
  },
  {
   "cell_type": "code",
   "execution_count": null,
   "id": "1662add3-ac15-46e1-8dd4-7d5afa4d3d29",
   "metadata": {},
   "outputs": [],
   "source": [
    "5+5"
   ]
  },
  {
   "cell_type": "code",
   "execution_count": null,
   "id": "84899fe3-41fc-406f-b41e-3fd8f7cfc2fe",
   "metadata": {},
   "outputs": [],
   "source": []
  },
  {
   "cell_type": "code",
   "execution_count": null,
   "id": "e2496e27-a9e6-4e0a-ae3c-990c41ca97fc",
   "metadata": {},
   "outputs": [],
   "source": [
    "\"David\""
   ]
  },
  {
   "cell_type": "code",
   "execution_count": null,
   "id": "8f69d620-eaa5-4f01-8ce5-47d7e1e2f5b6",
   "metadata": {},
   "outputs": [],
   "source": [
    "'David'"
   ]
  },
  {
   "cell_type": "code",
   "execution_count": null,
   "id": "32ff59bf-013b-4f80-b8b1-7ae9cc33382c",
   "metadata": {},
   "outputs": [],
   "source": []
  },
  {
   "cell_type": "code",
   "execution_count": null,
   "id": "11761961-a936-4644-9391-63d85fb5e1af",
   "metadata": {},
   "outputs": [],
   "source": []
  }
 ],
 "metadata": {
  "kernelspec": {
   "display_name": "Python 3 (ipykernel)",
   "language": "python",
   "name": "python3"
  },
  "language_info": {
   "codemirror_mode": {
    "name": "ipython",
    "version": 3
   },
   "file_extension": ".py",
   "mimetype": "text/x-python",
   "name": "python",
   "nbconvert_exporter": "python",
   "pygments_lexer": "ipython3",
   "version": "3.12.5"
  }
 },
 "nbformat": 4,
 "nbformat_minor": 5
}
