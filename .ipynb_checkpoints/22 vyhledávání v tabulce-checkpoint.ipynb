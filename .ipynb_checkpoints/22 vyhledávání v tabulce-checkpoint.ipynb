{
 "cells": [
  {
   "cell_type": "code",
   "execution_count": 1,
   "id": "34ce1edc-9848-44d8-bf3b-42c9b89410b9",
   "metadata": {},
   "outputs": [
    {
     "data": {
      "text/plain": [
       "True"
      ]
     },
     "execution_count": 1,
     "metadata": {},
     "output_type": "execute_result"
    }
   ],
   "source": [
    "\"zavod\" in \"zavodit\""
   ]
  },
  {
   "cell_type": "code",
   "execution_count": 5,
   "id": "ce1643fb-4936-474c-ad58-ab5199e19105",
   "metadata": {},
   "outputs": [
    {
     "data": {
      "text/plain": [
       "False"
      ]
     },
     "execution_count": 5,
     "metadata": {},
     "output_type": "execute_result"
    }
   ],
   "source": [
    "\"harry\" in \"Harry Potter\""
   ]
  },
  {
   "cell_type": "code",
   "execution_count": 8,
   "id": "89fcd9c3-f949-4c96-a98c-94a17af06be9",
   "metadata": {},
   "outputs": [
    {
     "data": {
      "text/plain": [
       "True"
      ]
     },
     "execution_count": 8,
     "metadata": {},
     "output_type": "execute_result"
    }
   ],
   "source": [
    "text = \"Harry Potter\"\n",
    "searched_text = \"Harry\"\n",
    "searched_text.lower() in text.lower()"
   ]
  },
  {
   "cell_type": "code",
   "execution_count": 9,
   "id": "c83827ab-33e9-434d-86e3-a4f21985bd85",
   "metadata": {},
   "outputs": [],
   "source": [
    "import pandas as pd"
   ]
  },
  {
   "cell_type": "code",
   "execution_count": 12,
   "id": "a6a93db0-a423-4b0f-a9b1-9a48051b22cf",
   "metadata": {},
   "outputs": [
    {
     "data": {
      "text/html": [
       "<div>\n",
       "<style scoped>\n",
       "    .dataframe tbody tr th:only-of-type {\n",
       "        vertical-align: middle;\n",
       "    }\n",
       "\n",
       "    .dataframe tbody tr th {\n",
       "        vertical-align: top;\n",
       "    }\n",
       "\n",
       "    .dataframe thead th {\n",
       "        text-align: right;\n",
       "    }\n",
       "</style>\n",
       "<table border=\"1\" class=\"dataframe\">\n",
       "  <thead>\n",
       "    <tr style=\"text-align: right;\">\n",
       "      <th></th>\n",
       "      <th>first_name</th>\n",
       "      <th>last_name</th>\n",
       "      <th>email</th>\n",
       "      <th>bank_account</th>\n",
       "      <th>born_year</th>\n",
       "      <th>city</th>\n",
       "    </tr>\n",
       "  </thead>\n",
       "  <tbody>\n",
       "    <tr>\n",
       "      <th>0</th>\n",
       "      <td>Shawn</td>\n",
       "      <td>Gotts</td>\n",
       "      <td>sgotts0@newsvine.com</td>\n",
       "      <td>58.0</td>\n",
       "      <td>NaN</td>\n",
       "      <td>Jinchuan</td>\n",
       "    </tr>\n",
       "    <tr>\n",
       "      <th>1</th>\n",
       "      <td>Sergeant</td>\n",
       "      <td>Linsey</td>\n",
       "      <td>slinsey1@qq.com</td>\n",
       "      <td>70.0</td>\n",
       "      <td>2007.0</td>\n",
       "      <td>Tāngāil</td>\n",
       "    </tr>\n",
       "    <tr>\n",
       "      <th>2</th>\n",
       "      <td>Ambrosio</td>\n",
       "      <td>Gorton</td>\n",
       "      <td>agorton2@google.es</td>\n",
       "      <td>48.0</td>\n",
       "      <td>2000.0</td>\n",
       "      <td>Zhushan Chengguanzhen</td>\n",
       "    </tr>\n",
       "    <tr>\n",
       "      <th>3</th>\n",
       "      <td>Gram</td>\n",
       "      <td>Steanyng</td>\n",
       "      <td>gsteanyng3@google.fr</td>\n",
       "      <td>92.0</td>\n",
       "      <td>1970.0</td>\n",
       "      <td>Hongxing</td>\n",
       "    </tr>\n",
       "    <tr>\n",
       "      <th>4</th>\n",
       "      <td>Britt</td>\n",
       "      <td>Cockaday</td>\n",
       "      <td>bcockaday4@t.co</td>\n",
       "      <td>78.0</td>\n",
       "      <td>1985.0</td>\n",
       "      <td>Nangabulik</td>\n",
       "    </tr>\n",
       "    <tr>\n",
       "      <th>...</th>\n",
       "      <td>...</td>\n",
       "      <td>...</td>\n",
       "      <td>...</td>\n",
       "      <td>...</td>\n",
       "      <td>...</td>\n",
       "      <td>...</td>\n",
       "    </tr>\n",
       "    <tr>\n",
       "      <th>195</th>\n",
       "      <td>Franz</td>\n",
       "      <td>Oppy</td>\n",
       "      <td>foppy5f@shutterfly.com</td>\n",
       "      <td>90.0</td>\n",
       "      <td>2020.0</td>\n",
       "      <td>Bílina Kyselka</td>\n",
       "    </tr>\n",
       "    <tr>\n",
       "      <th>196</th>\n",
       "      <td>Adolphus</td>\n",
       "      <td>Labbati</td>\n",
       "      <td>alabbati5g@yellowbook.com</td>\n",
       "      <td>56.0</td>\n",
       "      <td>1984.0</td>\n",
       "      <td>Berlin</td>\n",
       "    </tr>\n",
       "    <tr>\n",
       "      <th>197</th>\n",
       "      <td>Aurelea</td>\n",
       "      <td>Cordery</td>\n",
       "      <td>acordery5h@furl.net</td>\n",
       "      <td>NaN</td>\n",
       "      <td>1992.0</td>\n",
       "      <td>Veshnyaki</td>\n",
       "    </tr>\n",
       "    <tr>\n",
       "      <th>198</th>\n",
       "      <td>Armstrong</td>\n",
       "      <td>Laughren</td>\n",
       "      <td>alaughren5i@yahoo.co.jp</td>\n",
       "      <td>87.0</td>\n",
       "      <td>1983.0</td>\n",
       "      <td>Detik Satu</td>\n",
       "    </tr>\n",
       "    <tr>\n",
       "      <th>199</th>\n",
       "      <td>Henrietta</td>\n",
       "      <td>Peckitt</td>\n",
       "      <td>hpeckitt5j@multiply.com</td>\n",
       "      <td>NaN</td>\n",
       "      <td>1967.0</td>\n",
       "      <td>Phú Lộc</td>\n",
       "    </tr>\n",
       "  </tbody>\n",
       "</table>\n",
       "<p>200 rows × 6 columns</p>\n",
       "</div>"
      ],
      "text/plain": [
       "    first_name last_name                      email  bank_account  born_year  \\\n",
       "0        Shawn     Gotts       sgotts0@newsvine.com          58.0        NaN   \n",
       "1     Sergeant    Linsey            slinsey1@qq.com          70.0     2007.0   \n",
       "2     Ambrosio    Gorton         agorton2@google.es          48.0     2000.0   \n",
       "3         Gram  Steanyng       gsteanyng3@google.fr          92.0     1970.0   \n",
       "4        Britt  Cockaday            bcockaday4@t.co          78.0     1985.0   \n",
       "..         ...       ...                        ...           ...        ...   \n",
       "195      Franz      Oppy     foppy5f@shutterfly.com          90.0     2020.0   \n",
       "196   Adolphus   Labbati  alabbati5g@yellowbook.com          56.0     1984.0   \n",
       "197    Aurelea   Cordery        acordery5h@furl.net           NaN     1992.0   \n",
       "198  Armstrong  Laughren    alaughren5i@yahoo.co.jp          87.0     1983.0   \n",
       "199  Henrietta   Peckitt    hpeckitt5j@multiply.com           NaN     1967.0   \n",
       "\n",
       "                      city  \n",
       "0                 Jinchuan  \n",
       "1                  Tāngāil  \n",
       "2    Zhushan Chengguanzhen  \n",
       "3                 Hongxing  \n",
       "4               Nangabulik  \n",
       "..                     ...  \n",
       "195         Bílina Kyselka  \n",
       "196                 Berlin  \n",
       "197              Veshnyaki  \n",
       "198             Detik Satu  \n",
       "199                Phú Lộc  \n",
       "\n",
       "[200 rows x 6 columns]"
      ]
     },
     "execution_count": 12,
     "metadata": {},
     "output_type": "execute_result"
    }
   ],
   "source": [
    "bank_users = pd.read_csv(\"data/bank_users.csv\")\n",
    "bank_users"
   ]
  },
  {
   "cell_type": "code",
   "execution_count": 13,
   "id": "72a68e49-5e6a-4d83-9e12-2b8692f64770",
   "metadata": {},
   "outputs": [
    {
     "data": {
      "text/plain": [
       "False"
      ]
     },
     "execution_count": 13,
     "metadata": {},
     "output_type": "execute_result"
    }
   ],
   "source": [
    "\"Gorton\" in bank_users"
   ]
  },
  {
   "cell_type": "code",
   "execution_count": 14,
   "id": "3fb6b1b7-666c-4f83-95ff-24a6d1c6e843",
   "metadata": {},
   "outputs": [
    {
     "data": {
      "text/plain": [
       "RangeIndex(start=0, stop=200, step=1)"
      ]
     },
     "execution_count": 14,
     "metadata": {},
     "output_type": "execute_result"
    }
   ],
   "source": [
    "bank_users.index"
   ]
  },
  {
   "cell_type": "code",
   "execution_count": 15,
   "id": "0f795e3d-51de-4dcf-ad0d-02f5467480e8",
   "metadata": {},
   "outputs": [
    {
     "data": {
      "text/plain": [
       "array([['Shawn', 'Gotts', 'sgotts0@newsvine.com', 58.0, nan, 'Jinchuan'],\n",
       "       ['Sergeant', 'Linsey', 'slinsey1@qq.com', 70.0, 2007.0, 'Tāngāil'],\n",
       "       ['Ambrosio', 'Gorton', 'agorton2@google.es', 48.0, 2000.0,\n",
       "        'Zhushan Chengguanzhen'],\n",
       "       ...,\n",
       "       ['Aurelea', 'Cordery', 'acordery5h@furl.net', nan, 1992.0,\n",
       "        'Veshnyaki'],\n",
       "       ['Armstrong', 'Laughren', 'alaughren5i@yahoo.co.jp', 87.0, 1983.0,\n",
       "        'Detik Satu'],\n",
       "       ['Henrietta', 'Peckitt', 'hpeckitt5j@multiply.com', nan, 1967.0,\n",
       "        'Phú Lộc']], dtype=object)"
      ]
     },
     "execution_count": 15,
     "metadata": {},
     "output_type": "execute_result"
    }
   ],
   "source": [
    "bank_users.values"
   ]
  },
  {
   "cell_type": "code",
   "execution_count": 16,
   "id": "43187233-343d-497c-a513-e29736ce7321",
   "metadata": {},
   "outputs": [
    {
     "data": {
      "text/plain": [
       "True"
      ]
     },
     "execution_count": 16,
     "metadata": {},
     "output_type": "execute_result"
    }
   ],
   "source": [
    "\"Gorton\" in bank_users.values"
   ]
  },
  {
   "cell_type": "code",
   "execution_count": 18,
   "id": "be6d4f11-043b-4cd3-962f-c4996d605994",
   "metadata": {},
   "outputs": [
    {
     "data": {
      "text/plain": [
       "False"
      ]
     },
     "execution_count": 18,
     "metadata": {},
     "output_type": "execute_result"
    }
   ],
   "source": [
    "0 in bank_users.values"
   ]
  },
  {
   "cell_type": "code",
   "execution_count": 19,
   "id": "e7350fff-3739-4584-9db0-bff462f92d77",
   "metadata": {},
   "outputs": [
    {
     "data": {
      "text/plain": [
       "True"
      ]
     },
     "execution_count": 19,
     "metadata": {},
     "output_type": "execute_result"
    }
   ],
   "source": [
    "0 in bank_users.index"
   ]
  },
  {
   "cell_type": "code",
   "execution_count": null,
   "id": "a6004e06-b3e2-49d0-8ab4-ee3c6e5c751c",
   "metadata": {},
   "outputs": [],
   "source": []
  }
 ],
 "metadata": {
  "kernelspec": {
   "display_name": "Python 3 (ipykernel)",
   "language": "python",
   "name": "python3"
  },
  "language_info": {
   "codemirror_mode": {
    "name": "ipython",
    "version": 3
   },
   "file_extension": ".py",
   "mimetype": "text/x-python",
   "name": "python",
   "nbconvert_exporter": "python",
   "pygments_lexer": "ipython3",
   "version": "3.12.5"
  }
 },
 "nbformat": 4,
 "nbformat_minor": 5
}
