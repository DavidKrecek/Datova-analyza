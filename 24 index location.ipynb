{
 "cells": [
  {
   "cell_type": "code",
   "execution_count": 36,
   "metadata": {},
   "outputs": [],
   "source": [
    "import pandas as pd"
   ]
  },
  {
   "cell_type": "code",
   "execution_count": null,
   "metadata": {},
   "outputs": [],
   "source": []
  },
  {
   "cell_type": "code",
   "execution_count": 37,
   "metadata": {},
   "outputs": [
    {
     "data": {
      "text/plain": [
       "0         Gotts\n",
       "1        Linsey\n",
       "2        Gorton\n",
       "3      Steanyng\n",
       "4      Cockaday\n",
       "         ...   \n",
       "195        Oppy\n",
       "196     Labbati\n",
       "197     Cordery\n",
       "198    Laughren\n",
       "199     Peckitt\n",
       "Name: last_name, Length: 200, dtype: object"
      ]
     },
     "execution_count": 37,
     "metadata": {},
     "output_type": "execute_result"
    }
   ],
   "source": [
    "bank_users = pd.read_csv(\"data/bank_users.csv\")[\"last_name\"]    # vytáhnu příjmení\n",
    "bank_users"
   ]
  },
  {
   "cell_type": "code",
   "execution_count": 38,
   "metadata": {},
   "outputs": [
    {
     "data": {
      "text/plain": [
       "0         Gotts\n",
       "1        Linsey\n",
       "2        Gorton\n",
       "3      Steanyng\n",
       "4      Cockaday\n",
       "         ...   \n",
       "195        Oppy\n",
       "196     Labbati\n",
       "197     Cordery\n",
       "198    Laughren\n",
       "199     Peckitt\n",
       "Name: last_name, Length: 200, dtype: object"
      ]
     },
     "execution_count": 38,
     "metadata": {},
     "output_type": "execute_result"
    }
   ],
   "source": [
    "bank_users = pd.read_csv(\"data/bank_users.csv\", usecols=[\"last_name\"]).squeeze(\"columns\")\n",
    "bank_users"
   ]
  },
  {
   "cell_type": "code",
   "execution_count": 39,
   "metadata": {},
   "outputs": [
    {
     "data": {
      "text/plain": [
       "'Gotts'"
      ]
     },
     "execution_count": 39,
     "metadata": {},
     "output_type": "execute_result"
    }
   ],
   "source": [
    "bank_users.iloc[0]"
   ]
  },
  {
   "cell_type": "code",
   "execution_count": 42,
   "metadata": {},
   "outputs": [
    {
     "data": {
      "text/plain": [
       "10      Robley\n",
       "20        Meak\n",
       "30    Cathenod\n",
       "Name: last_name, dtype: object"
      ]
     },
     "execution_count": 42,
     "metadata": {},
     "output_type": "execute_result"
    }
   ],
   "source": [
    "bank_users.iloc[[10,20,30]]"
   ]
  },
  {
   "cell_type": "code",
   "execution_count": 44,
   "metadata": {},
   "outputs": [],
   "source": [
    "# bank_users.iloc[10, 20, 300]"
   ]
  },
  {
   "cell_type": "code",
   "execution_count": 50,
   "metadata": {},
   "outputs": [
    {
     "data": {
      "text/plain": [
       "10          Robley\n",
       "11          Carbin\n",
       "12         Ashling\n",
       "13             Boc\n",
       "14        Lomansey\n",
       "15        Youngman\n",
       "16    Grichukhanov\n",
       "17        Baldcock\n",
       "18        Lattimer\n",
       "19         Slocumb\n",
       "Name: last_name, dtype: object"
      ]
     },
     "execution_count": 50,
     "metadata": {},
     "output_type": "execute_result"
    }
   ],
   "source": [
    "bank_users.iloc[10:20]"
   ]
  },
  {
   "cell_type": "code",
   "execution_count": 46,
   "metadata": {},
   "outputs": [
    {
     "data": {
      "text/plain": [
       "150        Mollindinia\n",
       "151          Maskelyne\n",
       "152                Doe\n",
       "153            Gwillym\n",
       "154          Strickler\n",
       "155         Sandercock\n",
       "156             Tawton\n",
       "157            Perrone\n",
       "158          Twitching\n",
       "159              Garey\n",
       "160           Grangier\n",
       "161           Sherborn\n",
       "162             Norrie\n",
       "163            Meriott\n",
       "164            Burkman\n",
       "165           Ilymanov\n",
       "166            Maurice\n",
       "167         Auchinleck\n",
       "168          Gainsford\n",
       "169           Costanza\n",
       "170              Baile\n",
       "171            Trebble\n",
       "172             Rolles\n",
       "173           Alyokhin\n",
       "174            Knagges\n",
       "175          Simchenko\n",
       "176           Lorriman\n",
       "177             Wickey\n",
       "178           Glaister\n",
       "179               Brok\n",
       "180            Hurling\n",
       "181              Linck\n",
       "182             Goldby\n",
       "183            Pittman\n",
       "184           Ancliffe\n",
       "185    Falconer-Taylor\n",
       "186             Sproul\n",
       "187            Sircomb\n",
       "188            Yglesia\n",
       "189            Slocumb\n",
       "190         Whitchurch\n",
       "191             Wraith\n",
       "192           Chastand\n",
       "193          Gavrielly\n",
       "194               Stow\n",
       "195               Oppy\n",
       "196            Labbati\n",
       "197            Cordery\n",
       "198           Laughren\n",
       "199            Peckitt\n",
       "Name: last_name, dtype: object"
      ]
     },
     "execution_count": 46,
     "metadata": {},
     "output_type": "execute_result"
    }
   ],
   "source": [
    "bank_users[150:]"
   ]
  },
  {
   "cell_type": "code",
   "execution_count": 52,
   "metadata": {},
   "outputs": [
    {
     "data": {
      "text/plain": [
       "0        Gotts\n",
       "1       Linsey\n",
       "2       Gorton\n",
       "3     Steanyng\n",
       "4     Cockaday\n",
       "5     Simonett\n",
       "6      Frankom\n",
       "7      Terbeck\n",
       "8    Blenkhorn\n",
       "9      Gibberd\n",
       "Name: last_name, dtype: object"
      ]
     },
     "execution_count": 52,
     "metadata": {},
     "output_type": "execute_result"
    }
   ],
   "source": [
    "bank_users.iloc[:10]"
   ]
  },
  {
   "cell_type": "code",
   "execution_count": 53,
   "metadata": {},
   "outputs": [
    {
     "data": {
      "text/plain": [
       "'Peckitt'"
      ]
     },
     "execution_count": 53,
     "metadata": {},
     "output_type": "execute_result"
    }
   ],
   "source": [
    "bank_users.iloc[-1]"
   ]
  },
  {
   "cell_type": "code",
   "execution_count": 56,
   "metadata": {},
   "outputs": [
    {
     "data": {
      "text/plain": [
       "'Laughren'"
      ]
     },
     "execution_count": 56,
     "metadata": {},
     "output_type": "execute_result"
    }
   ],
   "source": [
    "bank_users.iloc[-2]"
   ]
  },
  {
   "cell_type": "code",
   "execution_count": 58,
   "metadata": {},
   "outputs": [
    {
     "data": {
      "text/plain": [
       "190    Whitchurch\n",
       "191        Wraith\n",
       "192      Chastand\n",
       "193     Gavrielly\n",
       "194          Stow\n",
       "Name: last_name, dtype: object"
      ]
     },
     "execution_count": 58,
     "metadata": {},
     "output_type": "execute_result"
    }
   ],
   "source": [
    "bank_users.iloc[-10:-5]"
   ]
  },
  {
   "cell_type": "code",
   "execution_count": 59,
   "metadata": {},
   "outputs": [
    {
     "data": {
      "text/plain": [
       "'Oppy'"
      ]
     },
     "execution_count": 59,
     "metadata": {},
     "output_type": "execute_result"
    }
   ],
   "source": [
    "bank_users.iloc[-5]"
   ]
  },
  {
   "cell_type": "code",
   "execution_count": 60,
   "metadata": {},
   "outputs": [
    {
     "data": {
      "text/plain": [
       "192     Chastand\n",
       "193    Gavrielly\n",
       "194         Stow\n",
       "195         Oppy\n",
       "196      Labbati\n",
       "197      Cordery\n",
       "198     Laughren\n",
       "199      Peckitt\n",
       "Name: last_name, dtype: object"
      ]
     },
     "execution_count": 60,
     "metadata": {},
     "output_type": "execute_result"
    }
   ],
   "source": [
    "bank_users[-8:]"
   ]
  },
  {
   "cell_type": "code",
   "execution_count": null,
   "metadata": {},
   "outputs": [],
   "source": []
  }
 ],
 "metadata": {
  "kernelspec": {
   "display_name": "Python 3 (ipykernel)",
   "language": "python",
   "name": "python3"
  },
  "language_info": {
   "codemirror_mode": {
    "name": "ipython",
    "version": 3
   },
   "file_extension": ".py",
   "mimetype": "text/x-python",
   "name": "python",
   "nbconvert_exporter": "python",
   "pygments_lexer": "ipython3",
   "version": "3.12.5"
  }
 },
 "nbformat": 4,
 "nbformat_minor": 4
}
